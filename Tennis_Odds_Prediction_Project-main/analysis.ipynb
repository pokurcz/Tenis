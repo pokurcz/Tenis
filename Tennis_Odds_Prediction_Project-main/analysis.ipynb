{
 "cells": [
  {
   "cell_type": "code",
   "execution_count": 1,
   "metadata": {},
   "outputs": [],
   "source": [
    "import pandas as pd\n",
    "import numpy as np\n",
    "from tqdm.auto import tqdm\n",
    "from scipy import stats\n",
    "import matplotlib.pyplot as plt\n",
    "\n",
    "import sklearn.preprocessing\n",
    "\n",
    "from sklearn.metrics import accuracy_score\n",
    "from sklearn.pipeline import Pipeline\n",
    "from sklearn.datasets import make_classification\n",
    "from sklearn.decomposition import PCA\n",
    "\n",
    "from sklearn.model_selection import TimeSeriesSplit\n",
    "from sklearn.model_selection import cross_validate\n",
    "from sklearn.model_selection import cross_val_score\n",
    "from sklearn.model_selection import GridSearchCV\n",
    "\n",
    "from sklearn.linear_model import RidgeClassifier, LogisticRegression\n",
    "from xgboost import XGBClassifier\n",
    "from sklearn.svm import SVC\n",
    "from sklearn.naive_bayes import GaussianNB\n",
    "from sklearn.tree import DecisionTreeClassifier\n",
    "from sklearn.neighbors import KNeighborsClassifier\n",
    "\n",
    "from sklearn.ensemble import StackingClassifier\n",
    "from sklearn.ensemble import GradientBoostingClassifier\n",
    "from sklearn.ensemble import RandomForestClassifier"
   ]
  },
  {
   "cell_type": "code",
   "execution_count": 2,
   "metadata": {},
   "outputs": [],
   "source": [
    "# we will substract 3000 rows on beginning\n",
    "data = pd.read_csv(\"atp.csv\")\n",
    "Y = pd.DataFrame(data['target'][3000:]).reset_index(drop=True)\n",
    "X = data.drop(['target'], axis = 1)[3000:].reset_index(drop=True)"
   ]
  },
  {
   "cell_type": "code",
   "execution_count": 3,
   "metadata": {},
   "outputs": [
    {
     "data": {
      "text/html": [
       "<div>\n",
       "<style scoped>\n",
       "    .dataframe tbody tr th:only-of-type {\n",
       "        vertical-align: middle;\n",
       "    }\n",
       "\n",
       "    .dataframe tbody tr th {\n",
       "        vertical-align: top;\n",
       "    }\n",
       "\n",
       "    .dataframe thead th {\n",
       "        text-align: right;\n",
       "    }\n",
       "</style>\n",
       "<table border=\"1\" class=\"dataframe\">\n",
       "  <thead>\n",
       "    <tr style=\"text-align: right;\">\n",
       "      <th></th>\n",
       "      <th>wins_game_semester_level1_0</th>\n",
       "      <th>wins_game_semester_level2_0</th>\n",
       "      <th>wins_game_semester_level3_0</th>\n",
       "      <th>wins_game_year_level1_0</th>\n",
       "      <th>wins_game_year_level2_0</th>\n",
       "      <th>wins_game_year_level3_0</th>\n",
       "      <th>wins_game_career_level1_0</th>\n",
       "      <th>wins_game_career_level2_0</th>\n",
       "      <th>wins_game_career_level3_0</th>\n",
       "      <th>losses_game_semester_level1_0</th>\n",
       "      <th>...</th>\n",
       "      <th>percent_career_Grass_1</th>\n",
       "      <th>percent_hth_wins_year_1</th>\n",
       "      <th>percent_hth_wins_career_1</th>\n",
       "      <th>percent_tournament.1</th>\n",
       "      <th>surface</th>\n",
       "      <th>best_of</th>\n",
       "      <th>match_rank</th>\n",
       "      <th>year</th>\n",
       "      <th>sin_day</th>\n",
       "      <th>cos_day</th>\n",
       "    </tr>\n",
       "  </thead>\n",
       "  <tbody>\n",
       "    <tr>\n",
       "      <th>0</th>\n",
       "      <td>0</td>\n",
       "      <td>24</td>\n",
       "      <td>86</td>\n",
       "      <td>0</td>\n",
       "      <td>36</td>\n",
       "      <td>192</td>\n",
       "      <td>27</td>\n",
       "      <td>96</td>\n",
       "      <td>436</td>\n",
       "      <td>0</td>\n",
       "      <td>...</td>\n",
       "      <td>0.500000</td>\n",
       "      <td>0.0</td>\n",
       "      <td>0.000000</td>\n",
       "      <td>1.000000</td>\n",
       "      <td>0.0</td>\n",
       "      <td>3</td>\n",
       "      <td>0.25000</td>\n",
       "      <td>1994</td>\n",
       "      <td>0.171293</td>\n",
       "      <td>0.985220</td>\n",
       "    </tr>\n",
       "    <tr>\n",
       "      <th>1</th>\n",
       "      <td>18</td>\n",
       "      <td>110</td>\n",
       "      <td>135</td>\n",
       "      <td>32</td>\n",
       "      <td>176</td>\n",
       "      <td>257</td>\n",
       "      <td>65</td>\n",
       "      <td>334</td>\n",
       "      <td>647</td>\n",
       "      <td>17</td>\n",
       "      <td>...</td>\n",
       "      <td>0.000000</td>\n",
       "      <td>0.0</td>\n",
       "      <td>0.000000</td>\n",
       "      <td>1.000000</td>\n",
       "      <td>0.0</td>\n",
       "      <td>3</td>\n",
       "      <td>0.25000</td>\n",
       "      <td>1994</td>\n",
       "      <td>0.171293</td>\n",
       "      <td>0.985220</td>\n",
       "    </tr>\n",
       "    <tr>\n",
       "      <th>2</th>\n",
       "      <td>0</td>\n",
       "      <td>22</td>\n",
       "      <td>50</td>\n",
       "      <td>6</td>\n",
       "      <td>81</td>\n",
       "      <td>149</td>\n",
       "      <td>77</td>\n",
       "      <td>333</td>\n",
       "      <td>564</td>\n",
       "      <td>0</td>\n",
       "      <td>...</td>\n",
       "      <td>0.647059</td>\n",
       "      <td>0.0</td>\n",
       "      <td>0.333333</td>\n",
       "      <td>1.000000</td>\n",
       "      <td>0.0</td>\n",
       "      <td>3</td>\n",
       "      <td>0.25000</td>\n",
       "      <td>1994</td>\n",
       "      <td>0.171293</td>\n",
       "      <td>0.985220</td>\n",
       "    </tr>\n",
       "    <tr>\n",
       "      <th>3</th>\n",
       "      <td>0</td>\n",
       "      <td>0</td>\n",
       "      <td>27</td>\n",
       "      <td>0</td>\n",
       "      <td>0</td>\n",
       "      <td>67</td>\n",
       "      <td>0</td>\n",
       "      <td>41</td>\n",
       "      <td>133</td>\n",
       "      <td>0</td>\n",
       "      <td>...</td>\n",
       "      <td>0.142857</td>\n",
       "      <td>0.0</td>\n",
       "      <td>0.000000</td>\n",
       "      <td>0.600000</td>\n",
       "      <td>0.0</td>\n",
       "      <td>5</td>\n",
       "      <td>0.00225</td>\n",
       "      <td>1994</td>\n",
       "      <td>0.288482</td>\n",
       "      <td>0.957485</td>\n",
       "    </tr>\n",
       "    <tr>\n",
       "      <th>4</th>\n",
       "      <td>26</td>\n",
       "      <td>64</td>\n",
       "      <td>108</td>\n",
       "      <td>78</td>\n",
       "      <td>191</td>\n",
       "      <td>268</td>\n",
       "      <td>133</td>\n",
       "      <td>381</td>\n",
       "      <td>673</td>\n",
       "      <td>5</td>\n",
       "      <td>...</td>\n",
       "      <td>0.000000</td>\n",
       "      <td>0.0</td>\n",
       "      <td>0.333333</td>\n",
       "      <td>0.333333</td>\n",
       "      <td>0.0</td>\n",
       "      <td>3</td>\n",
       "      <td>0.02250</td>\n",
       "      <td>1994</td>\n",
       "      <td>0.508671</td>\n",
       "      <td>0.860961</td>\n",
       "    </tr>\n",
       "    <tr>\n",
       "      <th>...</th>\n",
       "      <td>...</td>\n",
       "      <td>...</td>\n",
       "      <td>...</td>\n",
       "      <td>...</td>\n",
       "      <td>...</td>\n",
       "      <td>...</td>\n",
       "      <td>...</td>\n",
       "      <td>...</td>\n",
       "      <td>...</td>\n",
       "      <td>...</td>\n",
       "      <td>...</td>\n",
       "      <td>...</td>\n",
       "      <td>...</td>\n",
       "      <td>...</td>\n",
       "      <td>...</td>\n",
       "      <td>...</td>\n",
       "      <td>...</td>\n",
       "      <td>...</td>\n",
       "      <td>...</td>\n",
       "      <td>...</td>\n",
       "      <td>...</td>\n",
       "    </tr>\n",
       "    <tr>\n",
       "      <th>48706</th>\n",
       "      <td>0</td>\n",
       "      <td>49</td>\n",
       "      <td>171</td>\n",
       "      <td>0</td>\n",
       "      <td>63</td>\n",
       "      <td>242</td>\n",
       "      <td>12</td>\n",
       "      <td>214</td>\n",
       "      <td>757</td>\n",
       "      <td>9</td>\n",
       "      <td>...</td>\n",
       "      <td>0.451613</td>\n",
       "      <td>0.0</td>\n",
       "      <td>0.500000</td>\n",
       "      <td>0.666667</td>\n",
       "      <td>0.0</td>\n",
       "      <td>3</td>\n",
       "      <td>0.09000</td>\n",
       "      <td>2021</td>\n",
       "      <td>-0.790946</td>\n",
       "      <td>0.611886</td>\n",
       "    </tr>\n",
       "    <tr>\n",
       "      <th>48707</th>\n",
       "      <td>0</td>\n",
       "      <td>0</td>\n",
       "      <td>140</td>\n",
       "      <td>0</td>\n",
       "      <td>0</td>\n",
       "      <td>148</td>\n",
       "      <td>836</td>\n",
       "      <td>1845</td>\n",
       "      <td>2709</td>\n",
       "      <td>0</td>\n",
       "      <td>...</td>\n",
       "      <td>0.000000</td>\n",
       "      <td>0.0</td>\n",
       "      <td>0.000000</td>\n",
       "      <td>1.000000</td>\n",
       "      <td>0.0</td>\n",
       "      <td>3</td>\n",
       "      <td>0.09000</td>\n",
       "      <td>2021</td>\n",
       "      <td>-0.790946</td>\n",
       "      <td>0.611886</td>\n",
       "    </tr>\n",
       "    <tr>\n",
       "      <th>48708</th>\n",
       "      <td>0</td>\n",
       "      <td>96</td>\n",
       "      <td>176</td>\n",
       "      <td>12</td>\n",
       "      <td>137</td>\n",
       "      <td>270</td>\n",
       "      <td>18</td>\n",
       "      <td>298</td>\n",
       "      <td>663</td>\n",
       "      <td>32</td>\n",
       "      <td>...</td>\n",
       "      <td>0.450000</td>\n",
       "      <td>0.0</td>\n",
       "      <td>0.250000</td>\n",
       "      <td>0.833333</td>\n",
       "      <td>0.0</td>\n",
       "      <td>3</td>\n",
       "      <td>0.15000</td>\n",
       "      <td>2021</td>\n",
       "      <td>-0.790946</td>\n",
       "      <td>0.611886</td>\n",
       "    </tr>\n",
       "    <tr>\n",
       "      <th>48709</th>\n",
       "      <td>0</td>\n",
       "      <td>43</td>\n",
       "      <td>140</td>\n",
       "      <td>0</td>\n",
       "      <td>43</td>\n",
       "      <td>180</td>\n",
       "      <td>0</td>\n",
       "      <td>67</td>\n",
       "      <td>410</td>\n",
       "      <td>0</td>\n",
       "      <td>...</td>\n",
       "      <td>0.500000</td>\n",
       "      <td>0.0</td>\n",
       "      <td>1.000000</td>\n",
       "      <td>1.000000</td>\n",
       "      <td>0.0</td>\n",
       "      <td>3</td>\n",
       "      <td>0.15000</td>\n",
       "      <td>2021</td>\n",
       "      <td>-0.790946</td>\n",
       "      <td>0.611886</td>\n",
       "    </tr>\n",
       "    <tr>\n",
       "      <th>48710</th>\n",
       "      <td>26</td>\n",
       "      <td>87</td>\n",
       "      <td>120</td>\n",
       "      <td>26</td>\n",
       "      <td>112</td>\n",
       "      <td>225</td>\n",
       "      <td>50</td>\n",
       "      <td>391</td>\n",
       "      <td>975</td>\n",
       "      <td>14</td>\n",
       "      <td>...</td>\n",
       "      <td>0.000000</td>\n",
       "      <td>0.0</td>\n",
       "      <td>0.000000</td>\n",
       "      <td>1.000000</td>\n",
       "      <td>0.0</td>\n",
       "      <td>3</td>\n",
       "      <td>0.25000</td>\n",
       "      <td>2021</td>\n",
       "      <td>-0.790946</td>\n",
       "      <td>0.611886</td>\n",
       "    </tr>\n",
       "  </tbody>\n",
       "</table>\n",
       "<p>48711 rows × 222 columns</p>\n",
       "</div>"
      ],
      "text/plain": [
       "       wins_game_semester_level1_0  wins_game_semester_level2_0  \\\n",
       "0                                0                           24   \n",
       "1                               18                          110   \n",
       "2                                0                           22   \n",
       "3                                0                            0   \n",
       "4                               26                           64   \n",
       "...                            ...                          ...   \n",
       "48706                            0                           49   \n",
       "48707                            0                            0   \n",
       "48708                            0                           96   \n",
       "48709                            0                           43   \n",
       "48710                           26                           87   \n",
       "\n",
       "       wins_game_semester_level3_0  wins_game_year_level1_0  \\\n",
       "0                               86                        0   \n",
       "1                              135                       32   \n",
       "2                               50                        6   \n",
       "3                               27                        0   \n",
       "4                              108                       78   \n",
       "...                            ...                      ...   \n",
       "48706                          171                        0   \n",
       "48707                          140                        0   \n",
       "48708                          176                       12   \n",
       "48709                          140                        0   \n",
       "48710                          120                       26   \n",
       "\n",
       "       wins_game_year_level2_0  wins_game_year_level3_0  \\\n",
       "0                           36                      192   \n",
       "1                          176                      257   \n",
       "2                           81                      149   \n",
       "3                            0                       67   \n",
       "4                          191                      268   \n",
       "...                        ...                      ...   \n",
       "48706                       63                      242   \n",
       "48707                        0                      148   \n",
       "48708                      137                      270   \n",
       "48709                       43                      180   \n",
       "48710                      112                      225   \n",
       "\n",
       "       wins_game_career_level1_0  wins_game_career_level2_0  \\\n",
       "0                             27                         96   \n",
       "1                             65                        334   \n",
       "2                             77                        333   \n",
       "3                              0                         41   \n",
       "4                            133                        381   \n",
       "...                          ...                        ...   \n",
       "48706                         12                        214   \n",
       "48707                        836                       1845   \n",
       "48708                         18                        298   \n",
       "48709                          0                         67   \n",
       "48710                         50                        391   \n",
       "\n",
       "       wins_game_career_level3_0  losses_game_semester_level1_0  ...  \\\n",
       "0                            436                              0  ...   \n",
       "1                            647                             17  ...   \n",
       "2                            564                              0  ...   \n",
       "3                            133                              0  ...   \n",
       "4                            673                              5  ...   \n",
       "...                          ...                            ...  ...   \n",
       "48706                        757                              9  ...   \n",
       "48707                       2709                              0  ...   \n",
       "48708                        663                             32  ...   \n",
       "48709                        410                              0  ...   \n",
       "48710                        975                             14  ...   \n",
       "\n",
       "       percent_career_Grass_1  percent_hth_wins_year_1  \\\n",
       "0                    0.500000                      0.0   \n",
       "1                    0.000000                      0.0   \n",
       "2                    0.647059                      0.0   \n",
       "3                    0.142857                      0.0   \n",
       "4                    0.000000                      0.0   \n",
       "...                       ...                      ...   \n",
       "48706                0.451613                      0.0   \n",
       "48707                0.000000                      0.0   \n",
       "48708                0.450000                      0.0   \n",
       "48709                0.500000                      0.0   \n",
       "48710                0.000000                      0.0   \n",
       "\n",
       "       percent_hth_wins_career_1  percent_tournament.1  surface  best_of  \\\n",
       "0                       0.000000              1.000000      0.0        3   \n",
       "1                       0.000000              1.000000      0.0        3   \n",
       "2                       0.333333              1.000000      0.0        3   \n",
       "3                       0.000000              0.600000      0.0        5   \n",
       "4                       0.333333              0.333333      0.0        3   \n",
       "...                          ...                   ...      ...      ...   \n",
       "48706                   0.500000              0.666667      0.0        3   \n",
       "48707                   0.000000              1.000000      0.0        3   \n",
       "48708                   0.250000              0.833333      0.0        3   \n",
       "48709                   1.000000              1.000000      0.0        3   \n",
       "48710                   0.000000              1.000000      0.0        3   \n",
       "\n",
       "       match_rank  year   sin_day   cos_day  \n",
       "0         0.25000  1994  0.171293  0.985220  \n",
       "1         0.25000  1994  0.171293  0.985220  \n",
       "2         0.25000  1994  0.171293  0.985220  \n",
       "3         0.00225  1994  0.288482  0.957485  \n",
       "4         0.02250  1994  0.508671  0.860961  \n",
       "...           ...   ...       ...       ...  \n",
       "48706     0.09000  2021 -0.790946  0.611886  \n",
       "48707     0.09000  2021 -0.790946  0.611886  \n",
       "48708     0.15000  2021 -0.790946  0.611886  \n",
       "48709     0.15000  2021 -0.790946  0.611886  \n",
       "48710     0.25000  2021 -0.790946  0.611886  \n",
       "\n",
       "[48711 rows x 222 columns]"
      ]
     },
     "execution_count": 3,
     "metadata": {},
     "output_type": "execute_result"
    }
   ],
   "source": [
    "X"
   ]
  },
  {
   "cell_type": "markdown",
   "metadata": {},
   "source": [
    "## naive classifier using ranking points"
   ]
  },
  {
   "cell_type": "code",
   "execution_count": 4,
   "metadata": {},
   "outputs": [],
   "source": [
    "def naive_classifier(column, data, Y):\n",
    "    acc = 0\n",
    "    for ind in data.index:\n",
    "        r0 = data.at[ind, f'{column}_0']\n",
    "        r1 = data.at[ind, f'{column}_1']\n",
    "        if r0 > r1 and Y.at[ind, 'target'] == 0:\n",
    "            acc += 1\n",
    "        if r0 < r1 and Y.at[ind, 'target'] == 1:\n",
    "            acc += 1\n",
    "    return acc/len(data)"
   ]
  },
  {
   "cell_type": "code",
   "execution_count": 5,
   "metadata": {},
   "outputs": [
    {
     "name": "stdout",
     "output_type": "stream",
     "text": [
      "accuracy:  0.6618217651043912\n"
     ]
    }
   ],
   "source": [
    "print(\"accuracy: \", naive_classifier('rank_points', X, Y))"
   ]
  },
  {
   "cell_type": "markdown",
   "metadata": {},
   "source": [
    "## naive classifier using elo points"
   ]
  },
  {
   "cell_type": "code",
   "execution_count": 6,
   "metadata": {},
   "outputs": [
    {
     "name": "stdout",
     "output_type": "stream",
     "text": [
      "accuracy:  0.6839112315493421\n"
     ]
    }
   ],
   "source": [
    "print(\"accuracy: \", naive_classifier('elo', X, Y))"
   ]
  },
  {
   "cell_type": "markdown",
   "metadata": {},
   "source": [
    "## so far our best results are: elo: 0.684 , rank: 0.662"
   ]
  },
  {
   "cell_type": "markdown",
   "metadata": {},
   "source": [
    "## dealing with nulls (after update we do not have any nulls)"
   ]
  },
  {
   "cell_type": "code",
   "execution_count": 7,
   "metadata": {},
   "outputs": [],
   "source": [
    "# we replace Nans with random gaussian data\n",
    "def generate_data_on_Nan(column, data):\n",
    "    m = data[column].mean()\n",
    "    std = data[column].std()\n",
    "    #print(m, std)\n",
    "    for ind in data.index:\n",
    "        if np.isnan(data.at[ind, column]):\n",
    "            data.at[ind, column] = np.random.normal(m, std)"
   ]
  },
  {
   "cell_type": "code",
   "execution_count": 8,
   "metadata": {},
   "outputs": [],
   "source": [
    "# check where are Nans, and how many\n",
    "for c in X.columns:\n",
    "    if X[c].isna().sum() > 0:\n",
    "        print(c, X[c].isna().sum())"
   ]
  },
  {
   "cell_type": "code",
   "execution_count": 9,
   "metadata": {},
   "outputs": [],
   "source": [
    "# check where are Nans and replace them with gaussian random\n",
    "for c in X.columns:\n",
    "    if X[c].isna().sum() > 0:\n",
    "            generate_data_on_Nan(c, X)"
   ]
  },
  {
   "cell_type": "markdown",
   "metadata": {},
   "source": [
    "### Features importance"
   ]
  },
  {
   "cell_type": "code",
   "execution_count": 10,
   "metadata": {},
   "outputs": [],
   "source": [
    "corr_with_target = []\n",
    "for cname in data.columns:\n",
    "    #print(f\"{cname.ljust(25)}:\\t {data['target'].corr(data[cname]).round(decimals=3)}\")\n",
    "    corr_with_target.append((abs(data['target'].corr(data[cname])), cname))"
   ]
  },
  {
   "cell_type": "code",
   "execution_count": 11,
   "metadata": {},
   "outputs": [
    {
     "data": {
      "image/png": "[encoded data removed]",
      "text/plain": [
       "<Figure size 864x648 with 2 Axes>"
      ]
     },
     "metadata": {
      "needs_background": "light"
     },
     "output_type": "display_data"
    }
   ],
   "source": [
    "f = plt.figure(figsize=(12,9))\n",
    "plt.matshow(data.corr(), fignum=f.number)\n",
    "plt.xticks(range(0, data.columns.shape[0], 5), range(0, data.columns.shape[0], 5), fontsize=14, rotation=45)\n",
    "plt.yticks(range(0, data.columns.shape[0], 5), range(0, data.columns.shape[0], 5), fontsize=14)\n",
    "cb = plt.colorbar()\n",
    "plt.title('Correlation Matrix', fontsize=16)"
   ]
  },
  {
   "cell_type": "code",
   "execution_count": 12,
   "metadata": {
    "scrolled": true
   },
   "outputs": [],
   "source": [
    "#for corr in sorted(corr_with_target)[:-50:-1]:\n",
    "#    print(f\"{corr[1].ljust(25)}:\\t {corr[0].round(decimals=3)}\")"
   ]
  },
  {
   "cell_type": "code",
   "execution_count": 13,
   "metadata": {},
   "outputs": [
    {
     "data": {
      "image/png": "[encoded data removed]",
      "text/plain": [
       "<Figure size 1080x936 with 1 Axes>"
      ]
     },
     "metadata": {
      "needs_background": "light"
     },
     "output_type": "display_data"
    }
   ],
   "source": [
    "plt.figure(figsize=(15,13))\n",
    "plt.bar([x[1] for x in sorted(corr_with_target)[-2:-20:-1]],\n",
    "        [x[0] for x in sorted(corr_with_target)[-2:-20:-1]]\n",
    "       )\n",
    "plt.xticks(rotation=90)\n",
    "plt.show()"
   ]
  },
  {
   "cell_type": "markdown",
   "metadata": {},
   "source": [
    "### PCA"
   ]
  },
  {
   "cell_type": "code",
   "execution_count": 14,
   "metadata": {},
   "outputs": [],
   "source": [
    "X_std = pd.DataFrame(sklearn.preprocessing.StandardScaler().fit_transform(X), columns = X.columns)\n",
    "y = np.asarray(Y).ravel()\n",
    "xx = np.random.choice(X_std.shape[0], 500)\n",
    "new_x = X_std.iloc[xx]\n",
    "new_y = Y.iloc[xx].reset_index(drop=True)\n",
    "pca_x = PCA(n_components=2)\n",
    "X_comp = pca_x.fit_transform(new_x)\n",
    "princ_comp_X = pd.DataFrame(X_comp, columns=['0','1'])"
   ]
  },
  {
   "cell_type": "code",
   "execution_count": 15,
   "metadata": {},
   "outputs": [
    {
     "name": "stdout",
     "output_type": "stream",
     "text": [
      "Explained variation per principal component: [0.17862784 0.11866211]\n"
     ]
    }
   ],
   "source": [
    "print('Explained variation per principal component: {}'.format(pca_x.explained_variance_ratio_))"
   ]
  },
  {
   "cell_type": "code",
   "execution_count": 16,
   "metadata": {},
   "outputs": [
    {
     "data": {
      "text/plain": [
       "<Figure size 432x288 with 0 Axes>"
      ]
     },
     "metadata": {},
     "output_type": "display_data"
    },
    {
     "data": {
      "image/png": "[encoded data removed]",
      "text/plain": [
       "<Figure size 720x720 with 1 Axes>"
      ]
     },
     "metadata": {
      "needs_background": "light"
     },
     "output_type": "display_data"
    }
   ],
   "source": [
    "plt.figure()\n",
    "plt.figure(figsize=(10,10))\n",
    "plt.xticks(fontsize=12)\n",
    "plt.yticks(fontsize=14)\n",
    "plt.xlabel('Principal Component 1',fontsize=20)\n",
    "plt.ylabel('Principal Component 2',fontsize=20)\n",
    "plt.title(\"Principal Component Analysis\",fontsize=20)\n",
    "targets = [0, 1]\n",
    "colors = ['r', 'g']\n",
    "for target, color in zip(targets,colors):\n",
    "    indices = new_y['target'] == target\n",
    "    plt.scatter(princ_comp_X.loc[indices, '0']\n",
    "               , princ_comp_X.loc[indices, '1'], c = color, s = 50)\n",
    "\n",
    "plt.legend(targets,prop={'size': 15})\n",
    "plt.show()"
   ]
  },
  {
   "cell_type": "code",
   "execution_count": 17,
   "metadata": {},
   "outputs": [],
   "source": [
    "model = XGBClassifier(use_label_encoder=False).fit(X_std,y, eval_metric='rmse')\n",
    "importances = model.feature_importances_"
   ]
  },
  {
   "cell_type": "code",
   "execution_count": 18,
   "metadata": {},
   "outputs": [
    {
     "data": {
      "image/png": "[encoded data removed]",
      "text/plain": [
       "<Figure size 1080x936 with 1 Axes>"
      ]
     },
     "metadata": {
      "needs_background": "light"
     },
     "output_type": "display_data"
    }
   ],
   "source": [
    "importance = []\n",
    "for i in range(len(importances)):\n",
    "    importance.append((importances[i], X_std.columns[i]))\n",
    "plt.figure(figsize=(15,13))\n",
    "plt.bar([x[1] for x in sorted(importance)[:-20:-1]],\n",
    "        [x[0] for x in sorted(importance)[:-20:-1]]\n",
    "       )\n",
    "plt.xticks(rotation=90)\n",
    "plt.show()"
   ]
  },
  {
   "cell_type": "code",
   "execution_count": 19,
   "metadata": {},
   "outputs": [],
   "source": [
    "def win_to_feature(data, column, target, freq=20):\n",
    "    x_max = max(data[column])\n",
    "    x_min = min(data[column])\n",
    "    column_groups = np.linspace(x_min,x_max,num=freq)\n",
    "    win_ratio = [data.loc[(data[column]>=column_groups[i]) & (Y['target']==target)\n",
    "                               & (data[column]<column_groups[i+1]) ].shape[0] /\n",
    "                               data.loc[ (data[column]>= column_groups[i])\n",
    "                                           & (data[column]< column_groups[i+1])].shape[0] for i in range(0,freq-1)]\n",
    "    plt.figure(figsize=(10,7))\n",
    "    plt.plot(column_groups[0:freq - 1],win_ratio)\n",
    "    plt.ylabel('win_ratio')\n",
    "    plt.xlabel(column)\n",
    "    plt.show()"
   ]
  },
  {
   "cell_type": "code",
   "execution_count": 20,
   "metadata": {},
   "outputs": [
    {
     "data": {
      "image/png": "[encoded data removed]",
      "text/plain": [
       "<Figure size 720x504 with 1 Axes>"
      ]
     },
     "metadata": {
      "needs_background": "light"
     },
     "output_type": "display_data"
    }
   ],
   "source": [
    "win_to_feature(X, \"inactive_weeks_0\", 0, freq=30)"
   ]
  },
  {
   "cell_type": "code",
   "execution_count": 21,
   "metadata": {},
   "outputs": [
    {
     "data": {
      "image/png": "[encoded data removed]",
      "text/plain": [
       "<Figure size 720x504 with 1 Axes>"
      ]
     },
     "metadata": {
      "needs_background": "light"
     },
     "output_type": "display_data"
    },
    {
     "data": {
      "image/png": "[encoded data removed]",
      "text/plain": [
       "<Figure size 720x504 with 1 Axes>"
      ]
     },
     "metadata": {
      "needs_background": "light"
     },
     "output_type": "display_data"
    },
    {
     "data": {
      "image/png": "[encoded data removed]",
      "text/plain": [
       "<Figure size 720x504 with 1 Axes>"
      ]
     },
     "metadata": {
      "needs_background": "light"
     },
     "output_type": "display_data"
    }
   ],
   "source": [
    "win_to_feature(X, \"wins_set_career_level3_0\", 0)\n",
    "win_to_feature(X, \"elo_0\", 0)\n",
    "win_to_feature(X, \"match_counter_0\", 0)"
   ]
  },
  {
   "cell_type": "markdown",
   "metadata": {},
   "source": [
    "## scalers"
   ]
  },
  {
   "cell_type": "code",
   "execution_count": 15,
   "metadata": {},
   "outputs": [],
   "source": [
    "min_max_scaler = sklearn.preprocessing.MinMaxScaler()\n",
    "standard_scaler = sklearn.preprocessing.StandardScaler()\n",
    "X_mx = pd.DataFrame(min_max_scaler.fit_transform(X), columns = X.columns)\n",
    "X_std = pd.DataFrame(standard_scaler.fit_transform(X), columns = X.columns)"
   ]
  },
  {
   "cell_type": "code",
   "execution_count": 27,
   "metadata": {},
   "outputs": [
    {
     "name": "stdout",
     "output_type": "stream",
     "text": [
      "Fitting 4 folds for each of 14 candidates, totalling 56 fits\n",
      "Best parameter (CV score=0.796):\n",
      "{'alpha': 100.0}\n"
     ]
    }
   ],
   "source": [
    "ts_cv = TimeSeriesSplit(gap=0, max_train_size=15000, n_splits=4, test_size=5000)\n",
    "y = np.asarray(Y).ravel()\n",
    "pca = PCA()\n",
    "scaler = sklearn.preprocessing.StandardScaler()\n",
    "classifier = RidgeClassifier(fit_intercept=False, )\n",
    "pipe = Pipeline(steps=[(\"scaler\", scaler), (\"pca\", pca), (\"classifier\", classifier)])\n",
    "#param_grid = {\n",
    "#    \"pca__n_components\": [5, 15, 30, 45, 60, 90, 120, 148],\n",
    "#    #\"logistic__C\": np.logspace(-4, 4, 4),\n",
    "#}\n",
    "param_grid = {\n",
    "    'alpha': [0.1, 0.2, 0.3, 0.4, 0.5, 0.6, 0.7, 0.8, 0.9, 1.0, 10.0, 100.0, 1000.0, 10000.0]\n",
    "}\n",
    "search = GridSearchCV(classifier, param_grid, n_jobs=-1, verbose=3, cv = ts_cv)\n",
    "search.fit(X_std[:-10000], y[:-10000])\n",
    "print(\"Best parameter (CV score=%0.3f):\" % search.best_score_)\n",
    "print(search.best_params_)"
   ]
  },
  {
   "cell_type": "code",
   "execution_count": 28,
   "metadata": {
    "scrolled": true
   },
   "outputs": [
    {
     "name": "stdout",
     "output_type": "stream",
     "text": [
      "0.793700 (0.020293) with: {'alpha': 0.1}\n",
      "0.793800 (0.020427) with: {'alpha': 0.2}\n",
      "0.793850 (0.020529) with: {'alpha': 0.3}\n",
      "0.793850 (0.020662) with: {'alpha': 0.4}\n",
      "0.793850 (0.020527) with: {'alpha': 0.5}\n",
      "0.794000 (0.020635) with: {'alpha': 0.6}\n",
      "0.794050 (0.020654) with: {'alpha': 0.7}\n",
      "0.794000 (0.020585) with: {'alpha': 0.8}\n",
      "0.794050 (0.020654) with: {'alpha': 0.9}\n",
      "0.794100 (0.020766) with: {'alpha': 1.0}\n",
      "0.794600 (0.021361) with: {'alpha': 10.0}\n",
      "0.796100 (0.021576) with: {'alpha': 100.0}\n",
      "0.787050 (0.018053) with: {'alpha': 1000.0}\n",
      "0.732250 (0.006960) with: {'alpha': 10000.0}\n"
     ]
    }
   ],
   "source": [
    "means = search.cv_results_['mean_test_score']\n",
    "stds = search.cv_results_['std_test_score']\n",
    "params = search.cv_results_['params']\n",
    "for mean, stdev, param in zip(means, stds, params):\n",
    "    print(\"%f (%f) with: %r\" % (mean, stdev, param))"
   ]
  },
  {
   "cell_type": "code",
   "execution_count": 29,
   "metadata": {},
   "outputs": [
    {
     "name": "stdout",
     "output_type": "stream",
     "text": [
      "Fitting 4 folds for each of 5 candidates, totalling 20 fits\n",
      "Best parameter (CV score=0.793):\n",
      "{'C': 0.01}\n"
     ]
    },
    {
     "name": "stderr",
     "output_type": "stream",
     "text": [
      "/home/piopie/anaconda3/lib/python3.8/site-packages/sklearn/linear_model/_logistic.py:814: ConvergenceWarning: lbfgs failed to converge (status=1):\n",
      "STOP: TOTAL NO. of ITERATIONS REACHED LIMIT.\n",
      "\n",
      "Increase the number of iterations (max_iter) or scale the data as shown in:\n",
      "    https://scikit-learn.org/stable/modules/preprocessing.html\n",
      "Please also refer to the documentation for alternative solver options:\n",
      "    https://scikit-learn.org/stable/modules/linear_model.html#logistic-regression\n",
      "  n_iter_i = _check_optimize_result(\n"
     ]
    }
   ],
   "source": [
    "classifier = LogisticRegression()\n",
    "param_grid = {\n",
    "    'C' : [100, 10, 1.0, 0.1, 0.01]\n",
    "}\n",
    "search = GridSearchCV(classifier, param_grid, n_jobs=-1, verbose=3, cv = ts_cv)\n",
    "search.fit(X_std[:-10000], y[:-10000])\n",
    "print(\"Best parameter (CV score=%0.3f):\" % search.best_score_)\n",
    "print(search.best_params_)"
   ]
  },
  {
   "cell_type": "code",
   "execution_count": 30,
   "metadata": {},
   "outputs": [
    {
     "name": "stdout",
     "output_type": "stream",
     "text": [
      "Fitting 4 folds for each of 5 candidates, totalling 20 fits\n",
      "Best parameter (CV score=0.866):\n",
      "{'max_features': 100}\n"
     ]
    }
   ],
   "source": [
    "classifier = RandomForestClassifier()\n",
    "param_grid = {\n",
    "    'max_features' : [10,20,50,80,100]\n",
    "}\n",
    "search = GridSearchCV(classifier, param_grid, n_jobs=-1, verbose=3, cv = ts_cv)\n",
    "search.fit(X_std[:-10000], y[:-10000])\n",
    "print(\"Best parameter (CV score=%0.3f):\" % search.best_score_)\n",
    "print(search.best_params_)"
   ]
  },
  {
   "cell_type": "code",
   "execution_count": 31,
   "metadata": {},
   "outputs": [
    {
     "name": "stdout",
     "output_type": "stream",
     "text": [
      "0.773450 (0.008772) with: {'max_features': 10}\n",
      "0.813650 (0.009951) with: {'max_features': 20}\n",
      "0.852450 (0.020889) with: {'max_features': 50}\n",
      "0.860750 (0.019926) with: {'max_features': 80}\n",
      "0.866100 (0.020239) with: {'max_features': 100}\n"
     ]
    }
   ],
   "source": [
    "means = search.cv_results_['mean_test_score']\n",
    "stds = search.cv_results_['std_test_score']\n",
    "params = search.cv_results_['params']\n",
    "for mean, stdev, param in zip(means, stds, params):\n",
    "    print(\"%f (%f) with: %r\" % (mean, stdev, param))"
   ]
  },
  {
   "cell_type": "code",
   "execution_count": 272,
   "metadata": {},
   "outputs": [
    {
     "name": "stdout",
     "output_type": "stream",
     "text": [
      "[LibSVM]accuracy generate svc:  0.6916666666666667\n"
     ]
    }
   ],
   "source": [
    "clf = SVC(probability=True, verbose=True).fit(X_std[16000:26000], y[16000:26000])\n",
    "predictions = clf.predict(X_std[26000:29000])\n",
    "acc_svc= accuracy_score(y[26000:29000], predictions)\n",
    "print(\"accuracy generate svc: \", acc_svc)"
   ]
  },
  {
   "cell_type": "code",
   "execution_count": 263,
   "metadata": {},
   "outputs": [
    {
     "name": "stdout",
     "output_type": "stream",
     "text": [
      "Fitting 4 folds for each of 5 candidates, totalling 20 fits\n",
      "Best parameter (CV score=0.676):\n",
      "{'classifier__n_neighbors': 36, 'pca__n_components': 20}\n"
     ]
    }
   ],
   "source": [
    "ts_cv = TimeSeriesSplit(gap=0, max_train_size=15000, n_splits=4, test_size=5000)\n",
    "y = np.asarray(Y).ravel()\n",
    "pca = PCA()\n",
    "scaler = sklearn.preprocessing.StandardScaler()\n",
    "classifier = KNeighborsClassifier()\n",
    "pipe = Pipeline([(\"pca\", pca), (\"classifier\", classifier)])\n",
    "param_grid = {\n",
    "    \"pca__n_components\": [20],\n",
    "    \"classifier__n_neighbors\": range(30,40,2),\n",
    "    #\"classifier__n_neighbors\": [1,5,10,15],\n",
    "    #\"classifier__n_neighbors\": [1,5,10,15],\n",
    "    #\"logistic__C\": np.logspace(-4, 4, 4),\n",
    "}\n",
    "search = GridSearchCV(pipe, param_grid, n_jobs=-1, verbose=2, cv = ts_cv)\n",
    "search.fit(X_std[:-10000], y[:-10000])\n",
    "print(\"Best parameter (CV score=%0.3f):\" % search.best_score_)\n",
    "print(search.best_params_)"
   ]
  },
  {
   "cell_type": "code",
   "execution_count": 261,
   "metadata": {},
   "outputs": [
    {
     "data": {
      "image/png": "[encoded data removed]",
      "text/plain": [
       "<Figure size 432x432 with 2 Axes>"
      ]
     },
     "metadata": {
      "needs_background": "light"
     },
     "output_type": "display_data"
    }
   ],
   "source": [
    "# Plot the PCA spectrum\n",
    "pca.fit(new_x)\n",
    "\n",
    "fig, (ax0, ax1) = plt.subplots(nrows=2, sharex=True, figsize=(6, 6))\n",
    "ax0.plot(\n",
    "    np.arange(1, pca.n_components_ + 1), pca.explained_variance_ratio_, \"+\", linewidth=2\n",
    ")\n",
    "ax0.set_ylabel(\"PCA explained variance ratio\")\n",
    "\n",
    "ax0.axvline(\n",
    "    search.best_estimator_.named_steps[\"pca\"].n_components,\n",
    "    linestyle=\":\",\n",
    "    label=\"n_components chosen\",\n",
    ")\n",
    "ax0.legend(prop=dict(size=12))\n",
    "\n",
    "# For each number of components, find the best classifier results\n",
    "results = pd.DataFrame(search.cv_results_)\n",
    "components_col = \"param_pca__n_components\"\n",
    "best_clfs = results.groupby(components_col).apply(\n",
    "    lambda g: g.nlargest(1, \"mean_test_score\")\n",
    ")\n",
    "\n",
    "best_clfs.plot(\n",
    "    x=components_col, y=\"mean_test_score\", yerr=\"std_test_score\", legend=False, ax=ax1\n",
    ")\n",
    "ax1.set_ylabel(\"Classification accuracy (val)\")\n",
    "ax1.set_xlabel(\"n_components\")\n",
    "\n",
    "plt.xlim(-1, 150)\n",
    "\n",
    "plt.tight_layout()\n",
    "plt.show()"
   ]
  },
  {
   "cell_type": "code",
   "execution_count": 200,
   "metadata": {},
   "outputs": [
    {
     "name": "stdout",
     "output_type": "stream",
     "text": [
      "accuracy logistic reg:  0.658\n"
     ]
    }
   ],
   "source": [
    "clf = LogisticRegression(max_iter=1000).fit(X_std[-10000:-500], y[-10000:-500])\n",
    "predictions = clf.predict(X_std[-500:])\n",
    "acc_lr = accuracy_score(y[-500:], predictions)\n",
    "print(\"accuracy logistic reg: \", acc_lr)"
   ]
  },
  {
   "cell_type": "markdown",
   "metadata": {},
   "source": [
    "# Results on ML classifiers"
   ]
  },
  {
   "cell_type": "markdown",
   "metadata": {},
   "source": [
    "#### we will use standard normalization with generating data instead of nulls"
   ]
  },
  {
   "cell_type": "code",
   "execution_count": 12,
   "metadata": {},
   "outputs": [],
   "source": [
    "def get_test_train(X,Y):\n",
    "    X_train = X.iloc[:-1000,:]\n",
    "    X_train = X_train.iloc[3000:len(X_train)]\n",
    "    Y_train = Y.iloc[:-1000,:]\n",
    "    Y_train = Y_train.iloc[3000:len(Y_train)]\n",
    "    X_test = X.iloc[-1000:,:]\n",
    "    Y_test = Y.iloc[-1000:,]\n",
    "    return X_train,np.asarray(Y_train).ravel(),X_test,np.asarray(Y_test).ravel()"
   ]
  },
  {
   "cell_type": "code",
   "execution_count": 13,
   "metadata": {},
   "outputs": [],
   "source": [
    "ts_cv = TimeSeriesSplit(gap=0, max_train_size=15000, n_splits=4, test_size=5000)\n",
    "y = np.asarray(Y).ravel()"
   ]
  },
  {
   "cell_type": "code",
   "execution_count": 183,
   "metadata": {},
   "outputs": [
    {
     "name": "stdout",
     "output_type": "stream",
     "text": [
      "TRAIN: [ 8702  8703  8704 ... 23699 23700 23701] TEST: [23702 23703 23704 ... 28699 28700 28701]\n",
      "TRAIN: [13702 13703 13704 ... 28699 28700 28701] TEST: [28702 28703 28704 ... 33699 33700 33701]\n",
      "TRAIN: [18702 18703 18704 ... 33699 33700 33701] TEST: [33702 33703 33704 ... 38699 38700 38701]\n",
      "TRAIN: [23702 23703 23704 ... 38699 38700 38701] TEST: [38702 38703 38704 ... 43699 43700 43701]\n"
     ]
    }
   ],
   "source": [
    "#acc_sum = []\n",
    "for train_index, test_index in ts_cv.split(X_std.iloc[:-10000]):\n",
    "    print(\"TRAIN:\", train_index, \"TEST:\", test_index)\n",
    "    X_train, X_test = X_std.iloc[train_index], X_std.iloc[test_index]\n",
    "    y_train, y_test = y[train_index], y[test_index]\n",
    "    #clf = RandomForestClassifier().fit(X_train,y_train)\n",
    "    #predictions = clf.predict(X_test)\n",
    "    #acc_rfc = accuracy_score(y_test, predictions)\n",
    "    #print(\"accuracy Random Forest: \", acc_rfc)\n",
    "    #acc_sum += [acc_rfc]\n",
    "    #all_splits = list(ts_cv.split(X, Y))"
   ]
  },
  {
   "cell_type": "code",
   "execution_count": 35,
   "metadata": {},
   "outputs": [
    {
     "name": "stderr",
     "output_type": "stream",
     "text": [
      "[Parallel(n_jobs=-1)]: Using backend LokyBackend with 8 concurrent workers.\n"
     ]
    },
    {
     "name": "stdout",
     "output_type": "stream",
     "text": [
      "[0.8678 0.884  0.8748 0.8338]\n",
      "accuracy 0.87 with a standard deviation of 0.02\n"
     ]
    },
    {
     "name": "stderr",
     "output_type": "stream",
     "text": [
      "[Parallel(n_jobs=-1)]: Done   4 out of   4 | elapsed:  1.1min finished\n"
     ]
    }
   ],
   "source": [
    "clf = RandomForestClassifier(max_features=100)\n",
    "scores = cross_val_score(clf, X_std[:-10000], y[:-10000], cv=ts_cv, n_jobs=-1, verbose=3)\n",
    "print(scores)\n",
    "print(f'accuracy {scores.mean():.2f} with a standard deviation of {scores.std():.2f}')"
   ]
  },
  {
   "cell_type": "code",
   "execution_count": 16,
   "metadata": {},
   "outputs": [
    {
     "name": "stdout",
     "output_type": "stream",
     "text": [
      "[0.689  0.6962 0.6882 0.6852]\n",
      "accuracy 0.69 with a standard deviation of 0.00\n"
     ]
    }
   ],
   "source": [
    "clf = GradientBoostingClassifier()\n",
    "scores = cross_val_score(clf, X_std[:-10000], y[:-10000], cv=ts_cv)\n",
    "print(scores)\n",
    "print(f'accuracy {scores.mean():.2f} with a standard deviation of {scores.std():.2f}')"
   ]
  },
  {
   "cell_type": "code",
   "execution_count": 36,
   "metadata": {},
   "outputs": [
    {
     "name": "stdout",
     "output_type": "stream",
     "text": [
      "[0.784  0.8296 0.7784 0.756 ]\n",
      "accuracy 0.79 with a standard deviation of 0.03\n"
     ]
    }
   ],
   "source": [
    "clf = LogisticRegression(max_iter=1000)\n",
    "scores = cross_val_score(clf, X_std[:-10000], y[:-10000], cv=ts_cv)\n",
    "print(scores)\n",
    "print(f'accuracy {scores.mean():.2f} with a standard deviation of {scores.std():.2f}')"
   ]
  },
  {
   "cell_type": "code",
   "execution_count": 18,
   "metadata": {},
   "outputs": [
    {
     "name": "stdout",
     "output_type": "stream",
     "text": [
      "[0.671  0.6676 0.657  0.6548]\n",
      "accuracy 0.66 with a standard deviation of 0.01\n"
     ]
    }
   ],
   "source": [
    "clf = XGBClassifier(use_label_encoder=False, eval_metric='rmse')\n",
    "scores = cross_val_score(clf, X_std[:-10000], y[:-10000], cv=ts_cv)\n",
    "print(scores)\n",
    "print(f'accuracy {scores.mean():.2f} with a standard deviation of {scores.std():.2f}')"
   ]
  },
  {
   "cell_type": "code",
   "execution_count": 37,
   "metadata": {},
   "outputs": [
    {
     "name": "stdout",
     "output_type": "stream",
     "text": [
      "[0.8032 0.8224 0.7836 0.7662]\n",
      "accuracy 0.79 with a standard deviation of 0.02\n"
     ]
    }
   ],
   "source": [
    "clf = RidgeClassifier()\n",
    "scores = cross_val_score(clf, X_std[:-10000], y[:-10000], cv=ts_cv)\n",
    "print(scores)\n",
    "print(f'accuracy {scores.mean():.2f} with a standard deviation of {scores.std():.2f}')"
   ]
  },
  {
   "cell_type": "code",
   "execution_count": 38,
   "metadata": {},
   "outputs": [
    {
     "name": "stdout",
     "output_type": "stream",
     "text": [
      "[0.6764 0.689  0.7016 0.7028]\n",
      "accuracy 0.69 with a standard deviation of 0.01\n"
     ]
    }
   ],
   "source": [
    "clf = GaussianNB()\n",
    "scores = cross_val_score(clf, X_std[:-10000], y[:-10000], cv=ts_cv)\n",
    "print(scores)\n",
    "print(f'accuracy {scores.mean():.2f} with a standard deviation of {scores.std():.2f}')"
   ]
  },
  {
   "cell_type": "code",
   "execution_count": 21,
   "metadata": {},
   "outputs": [
    {
     "name": "stdout",
     "output_type": "stream",
     "text": [
      "[0.5832 0.5868 0.579  0.5672]\n",
      "accuracy 0.58 with a standard deviation of 0.01\n"
     ]
    }
   ],
   "source": [
    "clf = DecisionTreeClassifier()\n",
    "scores = cross_val_score(clf, X_std[:-10000], y[:-10000], cv=ts_cv)\n",
    "print(scores)\n",
    "print(f'accuracy {scores.mean():.2f} with a standard deviation of {scores.std():.2f}')"
   ]
  },
  {
   "cell_type": "code",
   "execution_count": 39,
   "metadata": {},
   "outputs": [
    {
     "name": "stdout",
     "output_type": "stream",
     "text": [
      "[0.6354 0.6602 0.673  0.6808]\n",
      "accuracy 0.66 with a standard deviation of 0.02\n"
     ]
    }
   ],
   "source": [
    "clf = KNeighborsClassifier()\n",
    "scores = cross_val_score(clf, X_std[:-10000], y[:-10000], cv=ts_cv)\n",
    "print(scores)\n",
    "print(f'accuracy {scores.mean():.2f} with a standard deviation of {scores.std():.2f}')"
   ]
  },
  {
   "cell_type": "code",
   "execution_count": 23,
   "metadata": {},
   "outputs": [],
   "source": [
    "X_train,Y_train,X_test,Y_test = get_test_train(X_std[:-15000], Y[:-15000])"
   ]
  },
  {
   "cell_type": "code",
   "execution_count": null,
   "metadata": {},
   "outputs": [],
   "source": [
    "clf = SVC(probability=True, verbose=True).fit(X_train,Y_train)\n",
    "predictions = clf.predict(X_test)\n",
    "acc_svc= accuracy_score(Y_test, predictions)\n",
    "print(\"accuracy generate svc: \", acc_svc)"
   ]
  },
  {
   "cell_type": "code",
   "execution_count": 24,
   "metadata": {},
   "outputs": [],
   "source": [
    "meta = LogisticRegression(max_iter=1000)\n",
    "base_dict = {\n",
    "    'lr': LogisticRegression(max_iter=1000),\n",
    "    'rf': RandomForestClassifier(), \n",
    "    'rc': RidgeClassifier(),\n",
    "    #'gnb': GaussianNB(),\n",
    "    #'xgb': XGBClassifier(use_label_encoder=False, eval_metric='rmse')\n",
    "}"
   ]
  },
  {
   "cell_type": "code",
   "execution_count": 26,
   "metadata": {},
   "outputs": [],
   "source": [
    "def fold_scoring(df_fold, meta_model, base_dict):\n",
    "    '''\n",
    "    Cycle through a dictionary of base models, fitting them then making predictions. The predictions are also \n",
    "    used as inputs for the meta model. All model predictions on the validation set are scored according to \n",
    "    MAE & RMSE. The output is two DataFrames containing the all-model scores.\n",
    "    \n",
    "    df_fold: DataFrame containing the sub-sample fold of interest, with the target variable in the last column\n",
    "    \n",
    "    meta_model: Meta model\n",
    "    \n",
    "    base_dict: Dictionary of base models\n",
    "    '''    \n",
    "    \n",
    "    # Empty scorer DataFrames\n",
    "    df_mae = pd.DataFrame(columns=base_dict.keys()) # Columns of DF will accord with base_dict keys\n",
    "    df_rmse = pd.DataFrame(columns=base_dict.keys())\n",
    "    \n",
    "    # Empty dictionaries to hold the base model predictions for the meta model\n",
    "    meta_dict1 = {}\n",
    "    meta_dict2 = {}\n",
    "    \n",
    "    # Split the data length into 2/3 base-training data and 1/3 meta-training data\n",
    "    n_valid = round(len(df_fold) * 0.1)\n",
    "    length = len(df_fold) - n_valid # n_valid is given as per above\n",
    "    n_meta = round(length/3)\n",
    "    n_base = n_meta * 2\n",
    "    \n",
    "    X_base = df_fold.iloc[:n_base,:]\n",
    "    X_meta = df_fold.iloc[n_base:(n_base + n_meta),:]\n",
    "    X_valid = df_fold.iloc[length:(length + n_valid),:]\n",
    "    \n",
    "    # Extract target variables from each sub-sample\n",
    "    y_meta = X_meta.pop('target')\n",
    "    y_base = X_base.pop('target')\n",
    "    y_valid = X_valid.pop('target')\n",
    "    \n",
    "    # Scaling the sub-samples\n",
    "    X_bsc = scaler.fit_transform(X_base)\n",
    "    X_msc = scaler.transform(X_meta)\n",
    "    X_vsc = scaler.transform(X_valid)\n",
    "    \n",
    "    # Fit the base models to the base-training set, and generate predictions\n",
    "    for key, reg in base_dict.items():\n",
    "        reg.fit(X_bsc, y_base)\n",
    "        \n",
    "        z_meta = reg.predict(X_msc).tolist() # Generate predictions on meta-training set\n",
    "        meta_dict1[key] = z_meta # Append predictions to dictionary\n",
    "        \n",
    "        z_valid = reg.predict(X_vsc).tolist() # Generate predictions on validation set for meta model\n",
    "        meta_dict2[key] = z_valid\n",
    "\n",
    "        df_mae[key] = pd.Series(round(accuracy_score(z_valid, y_valid), 4)) # Generate MAE scores for base models\n",
    "        df_rmse[key] = pd.Series(round(mean_squared_error(z_valid, y_valid, squared=False), 4)) # Generate RMSE scores\n",
    "    \n",
    "    # Transform dictionary of predictions for meta model into DataFrames        \n",
    "    df_meta1 = pd.DataFrame.from_dict(meta_dict1)\n",
    "    df_meta2 = pd.DataFrame.from_dict(meta_dict2)\n",
    "    \n",
    "    # Train meta model using base models' predictions of meta-training set\n",
    "    meta_model.fit(df_meta1, y_meta)\n",
    "    \n",
    "    # Generate meta model predictions of validation set\n",
    "    meta_y = meta_model.predict(df_meta2)            \n",
    "    \n",
    "    # Obtain scores from meta model, and insert into respective scorer DataFrames\n",
    "    df_mae['Stack Model'] = round(accuracy_score(meta_y, y_valid), 4)\n",
    "    df_rmse['Stack Model'] = round(mean_squared_error(meta_y, y_valid, squared=False), 4)\n",
    "\n",
    "    return df_mae, df_rmse"
   ]
  },
  {
   "cell_type": "code",
   "execution_count": 27,
   "metadata": {},
   "outputs": [
    {
     "data": {
      "text/html": [
       "<div>\n",
       "<style scoped>\n",
       "    .dataframe tbody tr th:only-of-type {\n",
       "        vertical-align: middle;\n",
       "    }\n",
       "\n",
       "    .dataframe tbody tr th {\n",
       "        vertical-align: top;\n",
       "    }\n",
       "\n",
       "    .dataframe thead th {\n",
       "        text-align: right;\n",
       "    }\n",
       "</style>\n",
       "<table border=\"1\" class=\"dataframe\">\n",
       "  <thead>\n",
       "    <tr style=\"text-align: right;\">\n",
       "      <th></th>\n",
       "      <th>age_0</th>\n",
       "      <th>ht_0</th>\n",
       "      <th>hand_0</th>\n",
       "      <th>rank_0</th>\n",
       "      <th>rank_points_0</th>\n",
       "      <th>wins_semester_level1_0</th>\n",
       "      <th>wins_semester_level2_0</th>\n",
       "      <th>wins_semester_level3_0</th>\n",
       "      <th>wins_year_level1_0</th>\n",
       "      <th>wins_year_level2_0</th>\n",
       "      <th>...</th>\n",
       "      <th>percent_svpt_semester.1</th>\n",
       "      <th>percent_svpt_year.1</th>\n",
       "      <th>percent_svpt_career.1</th>\n",
       "      <th>percent_rtpt_semester.1</th>\n",
       "      <th>percent_rtpt_year.1</th>\n",
       "      <th>percent_rtpt_career.1</th>\n",
       "      <th>percent_insv_semester.1</th>\n",
       "      <th>percent_insv_year.1</th>\n",
       "      <th>percent_insv_career.1</th>\n",
       "      <th>target</th>\n",
       "    </tr>\n",
       "  </thead>\n",
       "  <tbody>\n",
       "    <tr>\n",
       "      <th>0</th>\n",
       "      <td>27.835729</td>\n",
       "      <td>185.000000</td>\n",
       "      <td>1</td>\n",
       "      <td>38.0</td>\n",
       "      <td>945.0</td>\n",
       "      <td>0</td>\n",
       "      <td>2</td>\n",
       "      <td>4</td>\n",
       "      <td>1</td>\n",
       "      <td>5</td>\n",
       "      <td>...</td>\n",
       "      <td>0.604945</td>\n",
       "      <td>0.605518</td>\n",
       "      <td>0.608977</td>\n",
       "      <td>0.368810</td>\n",
       "      <td>0.378737</td>\n",
       "      <td>0.383955</td>\n",
       "      <td>0.551099</td>\n",
       "      <td>0.556944</td>\n",
       "      <td>0.558508</td>\n",
       "      <td>1</td>\n",
       "    </tr>\n",
       "    <tr>\n",
       "      <th>1</th>\n",
       "      <td>26.294319</td>\n",
       "      <td>180.000000</td>\n",
       "      <td>1</td>\n",
       "      <td>100.0</td>\n",
       "      <td>410.0</td>\n",
       "      <td>0</td>\n",
       "      <td>0</td>\n",
       "      <td>1</td>\n",
       "      <td>0</td>\n",
       "      <td>1</td>\n",
       "      <td>...</td>\n",
       "      <td>0.538776</td>\n",
       "      <td>0.596827</td>\n",
       "      <td>0.596827</td>\n",
       "      <td>0.415385</td>\n",
       "      <td>0.393627</td>\n",
       "      <td>0.393627</td>\n",
       "      <td>0.632653</td>\n",
       "      <td>0.608959</td>\n",
       "      <td>0.608959</td>\n",
       "      <td>1</td>\n",
       "    </tr>\n",
       "    <tr>\n",
       "      <th>2</th>\n",
       "      <td>28.878850</td>\n",
       "      <td>175.000000</td>\n",
       "      <td>1</td>\n",
       "      <td>32.0</td>\n",
       "      <td>1040.0</td>\n",
       "      <td>0</td>\n",
       "      <td>3</td>\n",
       "      <td>8</td>\n",
       "      <td>0</td>\n",
       "      <td>7</td>\n",
       "      <td>...</td>\n",
       "      <td>0.616769</td>\n",
       "      <td>0.613899</td>\n",
       "      <td>0.613899</td>\n",
       "      <td>0.423225</td>\n",
       "      <td>0.409100</td>\n",
       "      <td>0.409100</td>\n",
       "      <td>0.555187</td>\n",
       "      <td>0.557091</td>\n",
       "      <td>0.557091</td>\n",
       "      <td>1</td>\n",
       "    </tr>\n",
       "    <tr>\n",
       "      <th>3</th>\n",
       "      <td>27.444216</td>\n",
       "      <td>183.000000</td>\n",
       "      <td>1</td>\n",
       "      <td>102.0</td>\n",
       "      <td>404.0</td>\n",
       "      <td>0</td>\n",
       "      <td>0</td>\n",
       "      <td>3</td>\n",
       "      <td>0</td>\n",
       "      <td>0</td>\n",
       "      <td>...</td>\n",
       "      <td>0.648733</td>\n",
       "      <td>0.764491</td>\n",
       "      <td>0.637702</td>\n",
       "      <td>0.394986</td>\n",
       "      <td>0.449794</td>\n",
       "      <td>0.187874</td>\n",
       "      <td>0.560249</td>\n",
       "      <td>0.606371</td>\n",
       "      <td>0.502812</td>\n",
       "      <td>1</td>\n",
       "    </tr>\n",
       "    <tr>\n",
       "      <th>4</th>\n",
       "      <td>19.871321</td>\n",
       "      <td>180.000000</td>\n",
       "      <td>1</td>\n",
       "      <td>7.0</td>\n",
       "      <td>2560.0</td>\n",
       "      <td>1</td>\n",
       "      <td>3</td>\n",
       "      <td>7</td>\n",
       "      <td>3</td>\n",
       "      <td>10</td>\n",
       "      <td>...</td>\n",
       "      <td>0.656753</td>\n",
       "      <td>0.649838</td>\n",
       "      <td>0.650580</td>\n",
       "      <td>0.409471</td>\n",
       "      <td>0.409662</td>\n",
       "      <td>0.412491</td>\n",
       "      <td>0.502682</td>\n",
       "      <td>0.532644</td>\n",
       "      <td>0.529356</td>\n",
       "      <td>0</td>\n",
       "    </tr>\n",
       "    <tr>\n",
       "      <th>...</th>\n",
       "      <td>...</td>\n",
       "      <td>...</td>\n",
       "      <td>...</td>\n",
       "      <td>...</td>\n",
       "      <td>...</td>\n",
       "      <td>...</td>\n",
       "      <td>...</td>\n",
       "      <td>...</td>\n",
       "      <td>...</td>\n",
       "      <td>...</td>\n",
       "      <td>...</td>\n",
       "      <td>...</td>\n",
       "      <td>...</td>\n",
       "      <td>...</td>\n",
       "      <td>...</td>\n",
       "      <td>...</td>\n",
       "      <td>...</td>\n",
       "      <td>...</td>\n",
       "      <td>...</td>\n",
       "      <td>...</td>\n",
       "      <td>...</td>\n",
       "    </tr>\n",
       "    <tr>\n",
       "      <th>43697</th>\n",
       "      <td>32.087611</td>\n",
       "      <td>188.000000</td>\n",
       "      <td>0</td>\n",
       "      <td>65.0</td>\n",
       "      <td>793.0</td>\n",
       "      <td>0</td>\n",
       "      <td>2</td>\n",
       "      <td>11</td>\n",
       "      <td>0</td>\n",
       "      <td>2</td>\n",
       "      <td>...</td>\n",
       "      <td>0.664946</td>\n",
       "      <td>0.658660</td>\n",
       "      <td>0.635552</td>\n",
       "      <td>0.310843</td>\n",
       "      <td>0.308476</td>\n",
       "      <td>0.319716</td>\n",
       "      <td>0.648053</td>\n",
       "      <td>0.633059</td>\n",
       "      <td>0.622238</td>\n",
       "      <td>0</td>\n",
       "    </tr>\n",
       "    <tr>\n",
       "      <th>43698</th>\n",
       "      <td>31.392197</td>\n",
       "      <td>193.000000</td>\n",
       "      <td>1</td>\n",
       "      <td>123.0</td>\n",
       "      <td>458.0</td>\n",
       "      <td>0</td>\n",
       "      <td>0</td>\n",
       "      <td>2</td>\n",
       "      <td>0</td>\n",
       "      <td>0</td>\n",
       "      <td>...</td>\n",
       "      <td>0.640446</td>\n",
       "      <td>0.636150</td>\n",
       "      <td>0.625838</td>\n",
       "      <td>0.412428</td>\n",
       "      <td>0.407178</td>\n",
       "      <td>0.397877</td>\n",
       "      <td>0.572927</td>\n",
       "      <td>0.576562</td>\n",
       "      <td>0.577712</td>\n",
       "      <td>1</td>\n",
       "    </tr>\n",
       "    <tr>\n",
       "      <th>43699</th>\n",
       "      <td>29.412731</td>\n",
       "      <td>188.000000</td>\n",
       "      <td>0</td>\n",
       "      <td>61.0</td>\n",
       "      <td>827.0</td>\n",
       "      <td>0</td>\n",
       "      <td>3</td>\n",
       "      <td>7</td>\n",
       "      <td>0</td>\n",
       "      <td>4</td>\n",
       "      <td>...</td>\n",
       "      <td>0.642405</td>\n",
       "      <td>0.646366</td>\n",
       "      <td>0.627097</td>\n",
       "      <td>0.389839</td>\n",
       "      <td>0.370657</td>\n",
       "      <td>0.362650</td>\n",
       "      <td>0.544304</td>\n",
       "      <td>0.550122</td>\n",
       "      <td>0.549119</td>\n",
       "      <td>1</td>\n",
       "    </tr>\n",
       "    <tr>\n",
       "      <th>43700</th>\n",
       "      <td>20.969199</td>\n",
       "      <td>186.942979</td>\n",
       "      <td>1</td>\n",
       "      <td>266.0</td>\n",
       "      <td>198.0</td>\n",
       "      <td>0</td>\n",
       "      <td>0</td>\n",
       "      <td>0</td>\n",
       "      <td>0</td>\n",
       "      <td>0</td>\n",
       "      <td>...</td>\n",
       "      <td>0.609902</td>\n",
       "      <td>0.612063</td>\n",
       "      <td>0.612176</td>\n",
       "      <td>0.408441</td>\n",
       "      <td>0.399404</td>\n",
       "      <td>0.379842</td>\n",
       "      <td>0.604635</td>\n",
       "      <td>0.610387</td>\n",
       "      <td>0.617035</td>\n",
       "      <td>1</td>\n",
       "    </tr>\n",
       "    <tr>\n",
       "      <th>43701</th>\n",
       "      <td>22.132786</td>\n",
       "      <td>180.352690</td>\n",
       "      <td>1</td>\n",
       "      <td>187.0</td>\n",
       "      <td>293.0</td>\n",
       "      <td>0</td>\n",
       "      <td>0</td>\n",
       "      <td>1</td>\n",
       "      <td>0</td>\n",
       "      <td>0</td>\n",
       "      <td>...</td>\n",
       "      <td>0.582284</td>\n",
       "      <td>0.587855</td>\n",
       "      <td>0.581401</td>\n",
       "      <td>0.448185</td>\n",
       "      <td>0.431019</td>\n",
       "      <td>0.414112</td>\n",
       "      <td>0.628438</td>\n",
       "      <td>0.621455</td>\n",
       "      <td>0.608997</td>\n",
       "      <td>1</td>\n",
       "    </tr>\n",
       "  </tbody>\n",
       "</table>\n",
       "<p>43702 rows × 149 columns</p>\n",
       "</div>"
      ],
      "text/plain": [
       "           age_0        ht_0  hand_0  rank_0  rank_points_0  \\\n",
       "0      27.835729  185.000000       1    38.0          945.0   \n",
       "1      26.294319  180.000000       1   100.0          410.0   \n",
       "2      28.878850  175.000000       1    32.0         1040.0   \n",
       "3      27.444216  183.000000       1   102.0          404.0   \n",
       "4      19.871321  180.000000       1     7.0         2560.0   \n",
       "...          ...         ...     ...     ...            ...   \n",
       "43697  32.087611  188.000000       0    65.0          793.0   \n",
       "43698  31.392197  193.000000       1   123.0          458.0   \n",
       "43699  29.412731  188.000000       0    61.0          827.0   \n",
       "43700  20.969199  186.942979       1   266.0          198.0   \n",
       "43701  22.132786  180.352690       1   187.0          293.0   \n",
       "\n",
       "       wins_semester_level1_0  wins_semester_level2_0  wins_semester_level3_0  \\\n",
       "0                           0                       2                       4   \n",
       "1                           0                       0                       1   \n",
       "2                           0                       3                       8   \n",
       "3                           0                       0                       3   \n",
       "4                           1                       3                       7   \n",
       "...                       ...                     ...                     ...   \n",
       "43697                       0                       2                      11   \n",
       "43698                       0                       0                       2   \n",
       "43699                       0                       3                       7   \n",
       "43700                       0                       0                       0   \n",
       "43701                       0                       0                       1   \n",
       "\n",
       "       wins_year_level1_0  wins_year_level2_0  ...  percent_svpt_semester.1  \\\n",
       "0                       1                   5  ...                 0.604945   \n",
       "1                       0                   1  ...                 0.538776   \n",
       "2                       0                   7  ...                 0.616769   \n",
       "3                       0                   0  ...                 0.648733   \n",
       "4                       3                  10  ...                 0.656753   \n",
       "...                   ...                 ...  ...                      ...   \n",
       "43697                   0                   2  ...                 0.664946   \n",
       "43698                   0                   0  ...                 0.640446   \n",
       "43699                   0                   4  ...                 0.642405   \n",
       "43700                   0                   0  ...                 0.609902   \n",
       "43701                   0                   0  ...                 0.582284   \n",
       "\n",
       "       percent_svpt_year.1  percent_svpt_career.1  percent_rtpt_semester.1  \\\n",
       "0                 0.605518               0.608977                 0.368810   \n",
       "1                 0.596827               0.596827                 0.415385   \n",
       "2                 0.613899               0.613899                 0.423225   \n",
       "3                 0.764491               0.637702                 0.394986   \n",
       "4                 0.649838               0.650580                 0.409471   \n",
       "...                    ...                    ...                      ...   \n",
       "43697             0.658660               0.635552                 0.310843   \n",
       "43698             0.636150               0.625838                 0.412428   \n",
       "43699             0.646366               0.627097                 0.389839   \n",
       "43700             0.612063               0.612176                 0.408441   \n",
       "43701             0.587855               0.581401                 0.448185   \n",
       "\n",
       "       percent_rtpt_year.1  percent_rtpt_career.1  percent_insv_semester.1  \\\n",
       "0                 0.378737               0.383955                 0.551099   \n",
       "1                 0.393627               0.393627                 0.632653   \n",
       "2                 0.409100               0.409100                 0.555187   \n",
       "3                 0.449794               0.187874                 0.560249   \n",
       "4                 0.409662               0.412491                 0.502682   \n",
       "...                    ...                    ...                      ...   \n",
       "43697             0.308476               0.319716                 0.648053   \n",
       "43698             0.407178               0.397877                 0.572927   \n",
       "43699             0.370657               0.362650                 0.544304   \n",
       "43700             0.399404               0.379842                 0.604635   \n",
       "43701             0.431019               0.414112                 0.628438   \n",
       "\n",
       "       percent_insv_year.1  percent_insv_career.1  target  \n",
       "0                 0.556944               0.558508       1  \n",
       "1                 0.608959               0.608959       1  \n",
       "2                 0.557091               0.557091       1  \n",
       "3                 0.606371               0.502812       1  \n",
       "4                 0.532644               0.529356       0  \n",
       "...                    ...                    ...     ...  \n",
       "43697             0.633059               0.622238       0  \n",
       "43698             0.576562               0.577712       1  \n",
       "43699             0.550122               0.549119       1  \n",
       "43700             0.610387               0.617035       1  \n",
       "43701             0.621455               0.608997       1  \n",
       "\n",
       "[43702 rows x 149 columns]"
      ]
     },
     "execution_count": 27,
     "metadata": {},
     "output_type": "execute_result"
    }
   ],
   "source": [
    "y_df = pd.DataFrame(y[:-10000], columns=['target'])\n",
    "x_df = pd.DataFrame(X[:-10000])\n",
    "df = pd.concat([x_df,y_df], axis=1)\n",
    "df"
   ]
  },
  {
   "cell_type": "code",
   "execution_count": 28,
   "metadata": {},
   "outputs": [],
   "source": [
    "from sklearn.metrics import mean_squared_error, mean_absolute_error\n",
    "scaler = sklearn.preprocessing.StandardScaler()\n",
    "mae_1st, rmse_1st = fold_scoring(df, meta, base_dict)"
   ]
  },
  {
   "cell_type": "code",
   "execution_count": 29,
   "metadata": {},
   "outputs": [
    {
     "data": {
      "text/html": [
       "<div>\n",
       "<style scoped>\n",
       "    .dataframe tbody tr th:only-of-type {\n",
       "        vertical-align: middle;\n",
       "    }\n",
       "\n",
       "    .dataframe tbody tr th {\n",
       "        vertical-align: top;\n",
       "    }\n",
       "\n",
       "    .dataframe thead th {\n",
       "        text-align: right;\n",
       "    }\n",
       "</style>\n",
       "<table border=\"1\" class=\"dataframe\">\n",
       "  <thead>\n",
       "    <tr style=\"text-align: right;\">\n",
       "      <th></th>\n",
       "      <th>lr</th>\n",
       "      <th>rf</th>\n",
       "      <th>rc</th>\n",
       "      <th>Stack Model</th>\n",
       "    </tr>\n",
       "  </thead>\n",
       "  <tbody>\n",
       "    <tr>\n",
       "      <th>0</th>\n",
       "      <td>0.6815</td>\n",
       "      <td>0.6801</td>\n",
       "      <td>0.6819</td>\n",
       "      <td>0.6822</td>\n",
       "    </tr>\n",
       "  </tbody>\n",
       "</table>\n",
       "</div>"
      ],
      "text/plain": [
       "       lr      rf      rc  Stack Model\n",
       "0  0.6815  0.6801  0.6819       0.6822"
      ]
     },
     "execution_count": 29,
     "metadata": {},
     "output_type": "execute_result"
    }
   ],
   "source": [
    "mae_1st"
   ]
  },
  {
   "cell_type": "code",
   "execution_count": 30,
   "metadata": {},
   "outputs": [],
   "source": [
    "meta = XGBClassifier(use_label_encoder=False, eval_metric='rmse')\n",
    "mae_2nd, rmse_2nd = fold_scoring(df, meta, base_dict)"
   ]
  },
  {
   "cell_type": "code",
   "execution_count": 31,
   "metadata": {},
   "outputs": [
    {
     "data": {
      "text/html": [
       "<div>\n",
       "<style scoped>\n",
       "    .dataframe tbody tr th:only-of-type {\n",
       "        vertical-align: middle;\n",
       "    }\n",
       "\n",
       "    .dataframe tbody tr th {\n",
       "        vertical-align: top;\n",
       "    }\n",
       "\n",
       "    .dataframe thead th {\n",
       "        text-align: right;\n",
       "    }\n",
       "</style>\n",
       "<table border=\"1\" class=\"dataframe\">\n",
       "  <thead>\n",
       "    <tr style=\"text-align: right;\">\n",
       "      <th></th>\n",
       "      <th>lr</th>\n",
       "      <th>rf</th>\n",
       "      <th>rc</th>\n",
       "      <th>Stack Model</th>\n",
       "    </tr>\n",
       "  </thead>\n",
       "  <tbody>\n",
       "    <tr>\n",
       "      <th>0</th>\n",
       "      <td>0.6815</td>\n",
       "      <td>0.6838</td>\n",
       "      <td>0.6819</td>\n",
       "      <td>0.6822</td>\n",
       "    </tr>\n",
       "  </tbody>\n",
       "</table>\n",
       "</div>"
      ],
      "text/plain": [
       "       lr      rf      rc  Stack Model\n",
       "0  0.6815  0.6838  0.6819       0.6822"
      ]
     },
     "execution_count": 31,
     "metadata": {},
     "output_type": "execute_result"
    }
   ],
   "source": [
    "mae_2nd"
   ]
  },
  {
   "cell_type": "code",
   "execution_count": 32,
   "metadata": {},
   "outputs": [],
   "source": [
    "meta = RandomForestClassifier()\n",
    "mae_3rd, rmse_3rd = fold_scoring(df, meta, base_dict)"
   ]
  },
  {
   "cell_type": "code",
   "execution_count": 33,
   "metadata": {},
   "outputs": [
    {
     "data": {
      "text/html": [
       "<div>\n",
       "<style scoped>\n",
       "    .dataframe tbody tr th:only-of-type {\n",
       "        vertical-align: middle;\n",
       "    }\n",
       "\n",
       "    .dataframe tbody tr th {\n",
       "        vertical-align: top;\n",
       "    }\n",
       "\n",
       "    .dataframe thead th {\n",
       "        text-align: right;\n",
       "    }\n",
       "</style>\n",
       "<table border=\"1\" class=\"dataframe\">\n",
       "  <thead>\n",
       "    <tr style=\"text-align: right;\">\n",
       "      <th></th>\n",
       "      <th>lr</th>\n",
       "      <th>rf</th>\n",
       "      <th>rc</th>\n",
       "      <th>Stack Model</th>\n",
       "    </tr>\n",
       "  </thead>\n",
       "  <tbody>\n",
       "    <tr>\n",
       "      <th>0</th>\n",
       "      <td>0.6815</td>\n",
       "      <td>0.6796</td>\n",
       "      <td>0.6819</td>\n",
       "      <td>0.6817</td>\n",
       "    </tr>\n",
       "  </tbody>\n",
       "</table>\n",
       "</div>"
      ],
      "text/plain": [
       "       lr      rf      rc  Stack Model\n",
       "0  0.6815  0.6796  0.6819       0.6817"
      ]
     },
     "execution_count": 33,
     "metadata": {},
     "output_type": "execute_result"
    }
   ],
   "source": [
    "mae_3rd"
   ]
  },
  {
   "cell_type": "code",
   "execution_count": 34,
   "metadata": {},
   "outputs": [
    {
     "data": {
      "text/html": [
       "<div>\n",
       "<style scoped>\n",
       "    .dataframe tbody tr th:only-of-type {\n",
       "        vertical-align: middle;\n",
       "    }\n",
       "\n",
       "    .dataframe tbody tr th {\n",
       "        vertical-align: top;\n",
       "    }\n",
       "\n",
       "    .dataframe thead th {\n",
       "        text-align: right;\n",
       "    }\n",
       "</style>\n",
       "<table border=\"1\" class=\"dataframe\">\n",
       "  <thead>\n",
       "    <tr style=\"text-align: right;\">\n",
       "      <th></th>\n",
       "      <th>age_0</th>\n",
       "      <th>ht_0</th>\n",
       "      <th>hand_0</th>\n",
       "      <th>rank_0</th>\n",
       "      <th>rank_points_0</th>\n",
       "      <th>wins_semester_level1_0</th>\n",
       "      <th>wins_semester_level2_0</th>\n",
       "      <th>wins_semester_level3_0</th>\n",
       "      <th>wins_year_level1_0</th>\n",
       "      <th>wins_year_level2_0</th>\n",
       "      <th>...</th>\n",
       "      <th>percent_svpt_semester.1</th>\n",
       "      <th>percent_svpt_year.1</th>\n",
       "      <th>percent_svpt_career.1</th>\n",
       "      <th>percent_rtpt_semester.1</th>\n",
       "      <th>percent_rtpt_year.1</th>\n",
       "      <th>percent_rtpt_career.1</th>\n",
       "      <th>percent_insv_semester.1</th>\n",
       "      <th>percent_insv_year.1</th>\n",
       "      <th>percent_insv_career.1</th>\n",
       "      <th>target</th>\n",
       "    </tr>\n",
       "  </thead>\n",
       "  <tbody>\n",
       "    <tr>\n",
       "      <th>0</th>\n",
       "      <td>26.817248</td>\n",
       "      <td>190.0</td>\n",
       "      <td>1</td>\n",
       "      <td>80.0</td>\n",
       "      <td>500.0</td>\n",
       "      <td>0</td>\n",
       "      <td>0</td>\n",
       "      <td>6</td>\n",
       "      <td>0</td>\n",
       "      <td>1</td>\n",
       "      <td>...</td>\n",
       "      <td>0.622969</td>\n",
       "      <td>0.613854</td>\n",
       "      <td>0.605142</td>\n",
       "      <td>0.382874</td>\n",
       "      <td>0.365462</td>\n",
       "      <td>0.365970</td>\n",
       "      <td>0.575298</td>\n",
       "      <td>0.574429</td>\n",
       "      <td>0.555065</td>\n",
       "      <td>1</td>\n",
       "    </tr>\n",
       "    <tr>\n",
       "      <th>1</th>\n",
       "      <td>24.911704</td>\n",
       "      <td>178.0</td>\n",
       "      <td>1</td>\n",
       "      <td>6.0</td>\n",
       "      <td>2360.0</td>\n",
       "      <td>0</td>\n",
       "      <td>3</td>\n",
       "      <td>10</td>\n",
       "      <td>2</td>\n",
       "      <td>11</td>\n",
       "      <td>...</td>\n",
       "      <td>0.632035</td>\n",
       "      <td>0.645211</td>\n",
       "      <td>0.548680</td>\n",
       "      <td>0.391400</td>\n",
       "      <td>0.394655</td>\n",
       "      <td>0.324367</td>\n",
       "      <td>0.581169</td>\n",
       "      <td>0.582396</td>\n",
       "      <td>0.701483</td>\n",
       "      <td>0</td>\n",
       "    </tr>\n",
       "    <tr>\n",
       "      <th>2</th>\n",
       "      <td>25.281314</td>\n",
       "      <td>168.0</td>\n",
       "      <td>1</td>\n",
       "      <td>30.0</td>\n",
       "      <td>980.0</td>\n",
       "      <td>0</td>\n",
       "      <td>1</td>\n",
       "      <td>10</td>\n",
       "      <td>0</td>\n",
       "      <td>3</td>\n",
       "      <td>...</td>\n",
       "      <td>0.578732</td>\n",
       "      <td>0.588624</td>\n",
       "      <td>0.586503</td>\n",
       "      <td>0.435789</td>\n",
       "      <td>0.413972</td>\n",
       "      <td>0.403893</td>\n",
       "      <td>0.521472</td>\n",
       "      <td>0.550265</td>\n",
       "      <td>0.553374</td>\n",
       "      <td>0</td>\n",
       "    </tr>\n",
       "    <tr>\n",
       "      <th>3</th>\n",
       "      <td>21.103354</td>\n",
       "      <td>178.0</td>\n",
       "      <td>1</td>\n",
       "      <td>246.0</td>\n",
       "      <td>151.0</td>\n",
       "      <td>0</td>\n",
       "      <td>0</td>\n",
       "      <td>2</td>\n",
       "      <td>0</td>\n",
       "      <td>0</td>\n",
       "      <td>...</td>\n",
       "      <td>0.000000</td>\n",
       "      <td>0.000000</td>\n",
       "      <td>0.000000</td>\n",
       "      <td>0.000000</td>\n",
       "      <td>0.000000</td>\n",
       "      <td>0.000000</td>\n",
       "      <td>0.000000</td>\n",
       "      <td>0.000000</td>\n",
       "      <td>0.000000</td>\n",
       "      <td>1</td>\n",
       "    </tr>\n",
       "    <tr>\n",
       "      <th>4</th>\n",
       "      <td>27.170431</td>\n",
       "      <td>208.0</td>\n",
       "      <td>1</td>\n",
       "      <td>53.0</td>\n",
       "      <td>736.0</td>\n",
       "      <td>0</td>\n",
       "      <td>1</td>\n",
       "      <td>9</td>\n",
       "      <td>0</td>\n",
       "      <td>1</td>\n",
       "      <td>...</td>\n",
       "      <td>0.589763</td>\n",
       "      <td>0.595581</td>\n",
       "      <td>0.637140</td>\n",
       "      <td>0.395215</td>\n",
       "      <td>0.380531</td>\n",
       "      <td>0.164807</td>\n",
       "      <td>0.593583</td>\n",
       "      <td>0.598150</td>\n",
       "      <td>0.589386</td>\n",
       "      <td>1</td>\n",
       "    </tr>\n",
       "    <tr>\n",
       "      <th>...</th>\n",
       "      <td>...</td>\n",
       "      <td>...</td>\n",
       "      <td>...</td>\n",
       "      <td>...</td>\n",
       "      <td>...</td>\n",
       "      <td>...</td>\n",
       "      <td>...</td>\n",
       "      <td>...</td>\n",
       "      <td>...</td>\n",
       "      <td>...</td>\n",
       "      <td>...</td>\n",
       "      <td>...</td>\n",
       "      <td>...</td>\n",
       "      <td>...</td>\n",
       "      <td>...</td>\n",
       "      <td>...</td>\n",
       "      <td>...</td>\n",
       "      <td>...</td>\n",
       "      <td>...</td>\n",
       "      <td>...</td>\n",
       "      <td>...</td>\n",
       "    </tr>\n",
       "    <tr>\n",
       "      <th>13697</th>\n",
       "      <td>26.954141</td>\n",
       "      <td>180.0</td>\n",
       "      <td>1</td>\n",
       "      <td>31.0</td>\n",
       "      <td>1305.0</td>\n",
       "      <td>0</td>\n",
       "      <td>3</td>\n",
       "      <td>8</td>\n",
       "      <td>0</td>\n",
       "      <td>3</td>\n",
       "      <td>...</td>\n",
       "      <td>0.676889</td>\n",
       "      <td>0.672661</td>\n",
       "      <td>0.643626</td>\n",
       "      <td>0.393551</td>\n",
       "      <td>0.376455</td>\n",
       "      <td>0.357013</td>\n",
       "      <td>0.560000</td>\n",
       "      <td>0.569770</td>\n",
       "      <td>0.560565</td>\n",
       "      <td>1</td>\n",
       "    </tr>\n",
       "    <tr>\n",
       "      <th>13698</th>\n",
       "      <td>25.007529</td>\n",
       "      <td>185.0</td>\n",
       "      <td>0</td>\n",
       "      <td>1.0</td>\n",
       "      <td>12070.0</td>\n",
       "      <td>3</td>\n",
       "      <td>5</td>\n",
       "      <td>5</td>\n",
       "      <td>10</td>\n",
       "      <td>11</td>\n",
       "      <td>...</td>\n",
       "      <td>0.664972</td>\n",
       "      <td>0.689752</td>\n",
       "      <td>0.600859</td>\n",
       "      <td>0.451523</td>\n",
       "      <td>0.417768</td>\n",
       "      <td>0.191852</td>\n",
       "      <td>0.667664</td>\n",
       "      <td>0.662975</td>\n",
       "      <td>0.634709</td>\n",
       "      <td>1</td>\n",
       "    </tr>\n",
       "    <tr>\n",
       "      <th>13699</th>\n",
       "      <td>24.320329</td>\n",
       "      <td>190.0</td>\n",
       "      <td>1</td>\n",
       "      <td>216.0</td>\n",
       "      <td>234.0</td>\n",
       "      <td>0</td>\n",
       "      <td>0</td>\n",
       "      <td>0</td>\n",
       "      <td>0</td>\n",
       "      <td>0</td>\n",
       "      <td>...</td>\n",
       "      <td>0.608409</td>\n",
       "      <td>0.609943</td>\n",
       "      <td>0.597286</td>\n",
       "      <td>0.365575</td>\n",
       "      <td>0.358538</td>\n",
       "      <td>0.350877</td>\n",
       "      <td>0.589159</td>\n",
       "      <td>0.588925</td>\n",
       "      <td>0.585261</td>\n",
       "      <td>0</td>\n",
       "    </tr>\n",
       "    <tr>\n",
       "      <th>13700</th>\n",
       "      <td>27.556468</td>\n",
       "      <td>188.0</td>\n",
       "      <td>0</td>\n",
       "      <td>23.0</td>\n",
       "      <td>1425.0</td>\n",
       "      <td>0</td>\n",
       "      <td>3</td>\n",
       "      <td>6</td>\n",
       "      <td>0</td>\n",
       "      <td>5</td>\n",
       "      <td>...</td>\n",
       "      <td>0.663148</td>\n",
       "      <td>0.649607</td>\n",
       "      <td>0.519478</td>\n",
       "      <td>0.370422</td>\n",
       "      <td>0.376000</td>\n",
       "      <td>0.341141</td>\n",
       "      <td>0.677543</td>\n",
       "      <td>0.654421</td>\n",
       "      <td>0.354997</td>\n",
       "      <td>1</td>\n",
       "    </tr>\n",
       "    <tr>\n",
       "      <th>13701</th>\n",
       "      <td>26.135524</td>\n",
       "      <td>188.0</td>\n",
       "      <td>1</td>\n",
       "      <td>19.0</td>\n",
       "      <td>1480.0</td>\n",
       "      <td>0</td>\n",
       "      <td>2</td>\n",
       "      <td>8</td>\n",
       "      <td>0</td>\n",
       "      <td>4</td>\n",
       "      <td>...</td>\n",
       "      <td>0.672176</td>\n",
       "      <td>0.631825</td>\n",
       "      <td>0.618644</td>\n",
       "      <td>0.371191</td>\n",
       "      <td>0.347541</td>\n",
       "      <td>0.343518</td>\n",
       "      <td>0.619835</td>\n",
       "      <td>0.602184</td>\n",
       "      <td>0.574576</td>\n",
       "      <td>0</td>\n",
       "    </tr>\n",
       "  </tbody>\n",
       "</table>\n",
       "<p>13702 rows × 149 columns</p>\n",
       "</div>"
      ],
      "text/plain": [
       "           age_0   ht_0  hand_0  rank_0  rank_points_0  \\\n",
       "0      26.817248  190.0       1    80.0          500.0   \n",
       "1      24.911704  178.0       1     6.0         2360.0   \n",
       "2      25.281314  168.0       1    30.0          980.0   \n",
       "3      21.103354  178.0       1   246.0          151.0   \n",
       "4      27.170431  208.0       1    53.0          736.0   \n",
       "...          ...    ...     ...     ...            ...   \n",
       "13697  26.954141  180.0       1    31.0         1305.0   \n",
       "13698  25.007529  185.0       0     1.0        12070.0   \n",
       "13699  24.320329  190.0       1   216.0          234.0   \n",
       "13700  27.556468  188.0       0    23.0         1425.0   \n",
       "13701  26.135524  188.0       1    19.0         1480.0   \n",
       "\n",
       "       wins_semester_level1_0  wins_semester_level2_0  wins_semester_level3_0  \\\n",
       "0                           0                       0                       6   \n",
       "1                           0                       3                      10   \n",
       "2                           0                       1                      10   \n",
       "3                           0                       0                       2   \n",
       "4                           0                       1                       9   \n",
       "...                       ...                     ...                     ...   \n",
       "13697                       0                       3                       8   \n",
       "13698                       3                       5                       5   \n",
       "13699                       0                       0                       0   \n",
       "13700                       0                       3                       6   \n",
       "13701                       0                       2                       8   \n",
       "\n",
       "       wins_year_level1_0  wins_year_level2_0  ...  percent_svpt_semester.1  \\\n",
       "0                       0                   1  ...                 0.622969   \n",
       "1                       2                  11  ...                 0.632035   \n",
       "2                       0                   3  ...                 0.578732   \n",
       "3                       0                   0  ...                 0.000000   \n",
       "4                       0                   1  ...                 0.589763   \n",
       "...                   ...                 ...  ...                      ...   \n",
       "13697                   0                   3  ...                 0.676889   \n",
       "13698                  10                  11  ...                 0.664972   \n",
       "13699                   0                   0  ...                 0.608409   \n",
       "13700                   0                   5  ...                 0.663148   \n",
       "13701                   0                   4  ...                 0.672176   \n",
       "\n",
       "       percent_svpt_year.1  percent_svpt_career.1  percent_rtpt_semester.1  \\\n",
       "0                 0.613854               0.605142                 0.382874   \n",
       "1                 0.645211               0.548680                 0.391400   \n",
       "2                 0.588624               0.586503                 0.435789   \n",
       "3                 0.000000               0.000000                 0.000000   \n",
       "4                 0.595581               0.637140                 0.395215   \n",
       "...                    ...                    ...                      ...   \n",
       "13697             0.672661               0.643626                 0.393551   \n",
       "13698             0.689752               0.600859                 0.451523   \n",
       "13699             0.609943               0.597286                 0.365575   \n",
       "13700             0.649607               0.519478                 0.370422   \n",
       "13701             0.631825               0.618644                 0.371191   \n",
       "\n",
       "       percent_rtpt_year.1  percent_rtpt_career.1  percent_insv_semester.1  \\\n",
       "0                 0.365462               0.365970                 0.575298   \n",
       "1                 0.394655               0.324367                 0.581169   \n",
       "2                 0.413972               0.403893                 0.521472   \n",
       "3                 0.000000               0.000000                 0.000000   \n",
       "4                 0.380531               0.164807                 0.593583   \n",
       "...                    ...                    ...                      ...   \n",
       "13697             0.376455               0.357013                 0.560000   \n",
       "13698             0.417768               0.191852                 0.667664   \n",
       "13699             0.358538               0.350877                 0.589159   \n",
       "13700             0.376000               0.341141                 0.677543   \n",
       "13701             0.347541               0.343518                 0.619835   \n",
       "\n",
       "       percent_insv_year.1  percent_insv_career.1  target  \n",
       "0                 0.574429               0.555065       1  \n",
       "1                 0.582396               0.701483       0  \n",
       "2                 0.550265               0.553374       0  \n",
       "3                 0.000000               0.000000       1  \n",
       "4                 0.598150               0.589386       1  \n",
       "...                    ...                    ...     ...  \n",
       "13697             0.569770               0.560565       1  \n",
       "13698             0.662975               0.634709       1  \n",
       "13699             0.588925               0.585261       0  \n",
       "13700             0.654421               0.354997       1  \n",
       "13701             0.602184               0.574576       0  \n",
       "\n",
       "[13702 rows x 149 columns]"
      ]
     },
     "execution_count": 34,
     "metadata": {},
     "output_type": "execute_result"
    }
   ],
   "source": [
    "y_df = pd.DataFrame(y[15000:-25000], columns=['target'])\n",
    "x_df = pd.DataFrame(X.iloc[15000:-25000]).reset_index(drop=True)\n",
    "df = pd.concat([x_df,y_df], axis=1)\n",
    "df"
   ]
  },
  {
   "cell_type": "code",
   "execution_count": 35,
   "metadata": {},
   "outputs": [],
   "source": [
    "meta = XGBClassifier(use_label_encoder=False, eval_metric='rmse')\n",
    "mae_4th, rmse_4th = fold_scoring(df, meta, base_dict)"
   ]
  },
  {
   "cell_type": "code",
   "execution_count": 36,
   "metadata": {},
   "outputs": [
    {
     "data": {
      "text/html": [
       "<div>\n",
       "<style scoped>\n",
       "    .dataframe tbody tr th:only-of-type {\n",
       "        vertical-align: middle;\n",
       "    }\n",
       "\n",
       "    .dataframe tbody tr th {\n",
       "        vertical-align: top;\n",
       "    }\n",
       "\n",
       "    .dataframe thead th {\n",
       "        text-align: right;\n",
       "    }\n",
       "</style>\n",
       "<table border=\"1\" class=\"dataframe\">\n",
       "  <thead>\n",
       "    <tr style=\"text-align: right;\">\n",
       "      <th></th>\n",
       "      <th>lr</th>\n",
       "      <th>rf</th>\n",
       "      <th>rc</th>\n",
       "      <th>Stack Model</th>\n",
       "    </tr>\n",
       "  </thead>\n",
       "  <tbody>\n",
       "    <tr>\n",
       "      <th>0</th>\n",
       "      <td>0.719</td>\n",
       "      <td>0.7029</td>\n",
       "      <td>0.7219</td>\n",
       "      <td>0.7022</td>\n",
       "    </tr>\n",
       "  </tbody>\n",
       "</table>\n",
       "</div>"
      ],
      "text/plain": [
       "      lr      rf      rc  Stack Model\n",
       "0  0.719  0.7029  0.7219       0.7022"
      ]
     },
     "execution_count": 36,
     "metadata": {},
     "output_type": "execute_result"
    }
   ],
   "source": [
    "mae_4th"
   ]
  },
  {
   "cell_type": "code",
   "execution_count": 117,
   "metadata": {},
   "outputs": [],
   "source": [
    "X_train,Y_train,X_test,Y_test = get_test_train(X_std, Y)"
   ]
  },
  {
   "cell_type": "code",
   "execution_count": 72,
   "metadata": {},
   "outputs": [
    {
     "name": "stdout",
     "output_type": "stream",
     "text": [
      "accuracy Gradient Boosting Classifier:  0.655\n",
      "trained acc Gradient Boosting Classifier:  0.6862547910895223\n"
     ]
    }
   ],
   "source": [
    "clf = GradientBoostingClassifier().fit(X_train,Y_train)\n",
    "predictions = clf.predict(X_test)\n",
    "acc_gbc = accuracy_score(Y_test, predictions)\n",
    "print(\"accuracy Gradient Boosting Classifier: \", acc_gbc)\n",
    "predictions = clf.predict(X_train)\n",
    "acc_train = accuracy_score(Y_train, predictions)\n",
    "print(\"trained acc Gradient Boosting Classifier: \", acc_train)"
   ]
  },
  {
   "cell_type": "code",
   "execution_count": 59,
   "metadata": {},
   "outputs": [
    {
     "name": "stdout",
     "output_type": "stream",
     "text": [
      "accuracy Random Forest:  0.633\n",
      "trained acc Random Forest:  1.0\n"
     ]
    }
   ],
   "source": [
    "clf = RandomForestClassifier().fit(X_train,Y_train)\n",
    "predictions = clf.predict(X_test)\n",
    "acc_rfc = accuracy_score(Y_test, predictions)\n",
    "print(\"accuracy Random Forest: \", acc_rfc)\n",
    "predictions = clf.predict(X_train)\n",
    "acc_train = accuracy_score(Y_train, predictions)\n",
    "print(\"trained acc Random Forest: \", acc_train)"
   ]
  },
  {
   "cell_type": "code",
   "execution_count": 60,
   "metadata": {},
   "outputs": [
    {
     "name": "stdout",
     "output_type": "stream",
     "text": [
      "accuracy logistic reg:  0.659\n",
      "trained acc logistic reg:  0.6824675063377731\n"
     ]
    }
   ],
   "source": [
    "clf = LogisticRegression(max_iter=1000).fit(X_train,Y_train)\n",
    "predictions = clf.predict(X_test)\n",
    "acc_lr = accuracy_score(Y_test, predictions)\n",
    "print(\"accuracy logistic reg: \", acc_lr)\n",
    "predictions = clf.predict(X_train)\n",
    "acc_train = accuracy_score(Y_train, predictions)\n",
    "print(\"trained acc logistic reg: \", acc_train)"
   ]
  },
  {
   "cell_type": "code",
   "execution_count": 75,
   "metadata": {},
   "outputs": [
    {
     "name": "stdout",
     "output_type": "stream",
     "text": [
      "accuracy xgboost:  0.632\n",
      "trained acc xgboost:  0.8121133922811279\n"
     ]
    }
   ],
   "source": [
    "clf = XGBClassifier(use_label_encoder=False).fit(X_train,Y_train, eval_metric='rmse')\n",
    "predictions = clf.predict(X_test)\n",
    "acc_xgbc = accuracy_score(Y_test, predictions)\n",
    "print(\"accuracy xgboost: \", acc_xgbc)\n",
    "predictions = clf.predict(X_train)\n",
    "acc_train = accuracy_score(Y_train, predictions)\n",
    "print(\"trained acc xgboost: \", acc_train)"
   ]
  },
  {
   "cell_type": "code",
   "execution_count": null,
   "metadata": {},
   "outputs": [],
   "source": [
    "clf = SVC(probability=True).fit(X_train,Y_train)\n",
    "predictions = clf.predict(X_test)\n",
    "acc_svc= accuracy_score(Y_test, predictions)\n",
    "print(\"accuracy generate svc: \", acc_svc)"
   ]
  },
  {
   "cell_type": "code",
   "execution_count": null,
   "metadata": {},
   "outputs": [],
   "source": []
  },
  {
   "cell_type": "code",
   "execution_count": null,
   "metadata": {},
   "outputs": [],
   "source": [
    "#65.3 xgbc\n",
    "#6 svc"
   ]
  },
  {
   "cell_type": "code",
   "execution_count": null,
   "metadata": {},
   "outputs": [],
   "source": [
    "\n",
    "for i,X_scaled in enumerate([X_scaledmx, X_scaledstd]):\n",
    "    if i == 0:\n",
    "        print(\"\\nMIN MAX\")\n",
    "    else:\n",
    "        print(\"\\nSTANDARD\")\n",
    "    X_scaled_2 = X_scaled.copy()\n",
    "    X_scaled_2 = X_scaled_2.dropna()\n",
    "\n",
    "    X_scaled_1 = X_scaled.copy()\n",
    "    # check where are Nans and replace them with gaussian \n",
    "    for c in X_scaled.columns:\n",
    "        if X_scaled[c].isna().sum() > 0:\n",
    "            #print(c, X_scaled[c].isna().sum())\n",
    "            generate_data_on_Nan(c, X_scaled_1)\n",
    "    \n",
    "    pca = PCA(n_components=80, svd_solver='full')\n",
    "    X_scaled_2 = pd.DataFrame(pca.fit_transform(X_scaled_2))\n",
    "    X_scaled_1 = pd.DataFrame(pca.fit_transform(X_scaled_1))\n",
    "    X_train1,Y_train1,X_test1,Y_test1 = get_test_train(X_scaled_1, Y)\n",
    "    X_train2,Y_train2,X_test2,Y_test2 = get_test_train(X_scaled_2, Y_delete_nans)\n",
    "    \n",
    "    \n",
    "    clf = GradientBoostingClassifier().fit(X_train1,Y_train1)\n",
    "    predictions = clf.predict(X_test1)\n",
    "    acc = accuracy_score(Y_test1, predictions)\n",
    "    print(\"accuracy generate Gradient Boosting Classifier: \", acc)\n",
    "    \n",
    "    \n",
    "    clf = GradientBoostingClassifier().fit(X_train2,Y_train2)\n",
    "    predictions = clf.predict(X_test2)\n",
    "    acc = accuracy_score(Y_test2, predictions)\n",
    "    print(\"accuracy delete Gradient Boosting Classifier: \", acc)\n",
    "    \n",
    "    clf = RandomForestClassifier().fit(X_train1,Y_train1)\n",
    "    predictions = clf.predict(X_test1)\n",
    "    acc = accuracy_score(Y_test1, predictions)\n",
    "    print(\"accuracy generate Random Forest: \", acc)\n",
    "    \n",
    "    \n",
    "    clf = RandomForestClassifier().fit(X_train2,Y_train2)\n",
    "    predictions = clf.predict(X_test2)\n",
    "    acc = accuracy_score(Y_test2, predictions)\n",
    "    print(\"accuracy delete Random Forest: \", acc)\n",
    "    \n",
    "    \n",
    "    \n",
    "    clf = LogisticRegression().fit(X_train1,Y_train1)\n",
    "    predictions = clf.predict(X_test1)\n",
    "    acc = accuracy_score(Y_test1, predictions)\n",
    "    print(\"accuracy generate logistic reg: \", acc)\n",
    "    \n",
    "    clf = LogisticRegression().fit(X_train2,Y_train2)\n",
    "    predictions = clf.predict(X_test2)\n",
    "    acc = accuracy_score(Y_test2, predictions)\n",
    "    print(\"accuracy delete logistic reg: \", acc)\n",
    "    \n",
    "    if i != 1: # cant perform xgboost on standard normalization\n",
    "        clf = XGBClassifier(use_label_encoder=False).fit(X_train1,Y_train1, eval_metric='rmse')\n",
    "        predictions = clf.predict(X_test1)\n",
    "        acc = accuracy_score(Y_test1, predictions)\n",
    "        print(\"accuracy generate xgboost: \", acc)\n",
    "        clf = XGBClassifier(use_label_encoder=False).fit(X_train2,Y_train2, eval_metric='rmse')\n",
    "        predictions = clf.predict(X_test2)\n",
    "        acc = accuracy_score(Y_test2, predictions)\n",
    "        print(\"accuracy delete xgboost: \", acc)\n",
    "    "
   ]
  },
  {
   "cell_type": "code",
   "execution_count": null,
   "metadata": {},
   "outputs": [],
   "source": []
  },
  {
   "cell_type": "code",
   "execution_count": null,
   "metadata": {},
   "outputs": [],
   "source": [
    "maximum_ranking_points = max(final_df['rank_points_0'])\n",
    "minimum_ranking_points = min(final_df['rank_points_0'])\n",
    "rank_0_points_groups = np.linspace(minimum_ranking_points,maximum_ranking_points,num=20)\n",
    "win_ratio_rank_0_points = [ final_df.loc[(final_df['rank_points_0']>=rank_0_points_groups[i]) & (final_df['target']==0)\n",
    "                           & (final_df['rank_points_0']<rank_0_points_groups[i+1]) ].shape[0] /\n",
    "                           final_df.loc[ (final_df['rank_points_0']>= rank_0_points_groups[i])\n",
    "                                       & (final_df['rank_points_0']< rank_0_points_groups[i+1])].shape[0] for i in range(0,19)]\n",
    "plt.plot(rank_0_points_groups[0:19],win_ratio_rank_0_points)\n",
    "plt.ylabel('win_ratio')\n",
    "plt.xlabel('ranking_points')\n",
    "plt.show()"
   ]
  },
  {
   "cell_type": "code",
   "execution_count": null,
   "metadata": {},
   "outputs": [],
   "source": [
    "maximum_age = max(final_df['age_0'])\n",
    "minimum_age = min(final_df['age_0'])\n",
    "age_0_groups = np.linspace(minimum_age,maximum_age,num=20)\n",
    "win_ratio_age = [ final_df.loc[(final_df['age_0']>=age_0_groups[i]) & (final_df['target']==0) &\n",
    "                               (final_df['age_0']<age_0_groups[i+1]) ].shape[0] /\n",
    "                           final_df.loc[(final_df['age_0']>= age_0_groups[i]) & (final_df['age_0']<age_0_groups[i+1]) ].shape[0] for i in range(0,19) ]\n",
    "plt.plot(age_0_groups[0:19],win_ratio_age)\n",
    "plt.ylabel('win_ratio')\n",
    "plt.xlabel('normalize_age')\n",
    "plt.show()"
   ]
  }
 ],
 "metadata": {
  "kernelspec": {
   "display_name": "Python 3",
   "language": "python",
   "name": "python3"
  },
  "language_info": {
   "codemirror_mode": {
    "name": "ipython",
    "version": 3
   },
   "file_extension": ".py",
   "mimetype": "text/x-python",
   "name": "python",
   "nbconvert_exporter": "python",
   "pygments_lexer": "ipython3",
   "version": "3.8.3"
  }
 },
 "nbformat": 4,
 "nbformat_minor": 4
}
