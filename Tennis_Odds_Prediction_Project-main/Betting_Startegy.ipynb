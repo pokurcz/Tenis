{
 "cells": [
  {
   "cell_type": "code",
   "execution_count": 219,
   "metadata": {},
   "outputs": [],
   "source": [
    "import pandas as pd\n",
    "import numpy as np\n",
    "from tqdm.auto import tqdm\n",
    "from scipy import stats\n",
    "import matplotlib.pyplot as plt\n",
    "import openpyxl\n",
    "from datetime import date\n",
    "import ast\n",
    "from sklearn.metrics import accuracy_score\n",
    "import seaborn as sns\n",
    "from matplotlib.ticker import FuncFormatter\n",
    "from matplotlib import cm"
   ]
  },
  {
   "cell_type": "code",
   "execution_count": 295,
   "metadata": {},
   "outputs": [],
   "source": [
    "def sin_day(t_date):\n",
    "    year = t_date // 10000\n",
    "    month = (t_date // 100) % 100\n",
    "    day = t_date % 100\n",
    "    d = date(year,month,day)\n",
    "    day_num = d.timetuple().tm_yday\n",
    "    return np.sin(day_num * 2 * np.pi / 365)\n",
    "def cos_day(t_date):\n",
    "    year = t_date // 10000\n",
    "    month = (t_date // 100) % 100\n",
    "    day = t_date % 100\n",
    "    d = date(year,month,day)\n",
    "    day_num = d.timetuple().tm_yday\n",
    "    return np.cos(day_num * 2 * np.pi / 365)\n",
    "\n",
    "def get_year(date):\n",
    "    return int(date/10000)\n",
    "\n",
    "def new_date(date):\n",
    "    date =str(date)\n",
    "    date = date.split('-')\n",
    "    return int(date[0]+ date[1] + date[2][0:2])\n",
    "\n",
    "def basic_horizontal_barplot(values,labels,xaxis_label,title,xlim=None,figsize=None):\n",
    "    cs=[\"coral\",\"tomato\",\"peachpuff\",\"orange\",\"gold\",\"firebrick\",\"peru\",\"khaki\",\"chocolate\"]\n",
    "    cs=cs*(len(values)//len(cs)+1)\n",
    "    # The figure\n",
    "    if figsize==None:\n",
    "        fig=plt.figure(figsize=(4,3))\n",
    "    else:\n",
    "        fig=plt.figure(figsize=figsize,dpi=120)\n",
    "    ax = fig.add_axes([0,0,1,0.9])\n",
    "    color=cs[:len(values)]\n",
    "    ax.barh(range(len(values)),values,color=color)\n",
    "    ax.set_yticks(range(len(values)))\n",
    "    ax.set_yticklabels(labels)\n",
    "    if xlim!=None:\n",
    "        ax.set_xlim(xlim)\n",
    "    plt.suptitle(title)\n",
    "    ax.set_xlabel(xaxis_label)\n",
    "    plt.show()\n",
    "\n",
    "def autolabel(rects):\n",
    "    \"\"\"Attach a text label above each bar in *rects*, displaying its height.\"\"\"\n",
    "    for rect in rects:\n",
    "        height = rect.get_height()\n",
    "        ax.annotate('{}'.format(height),\n",
    "                    xy=(rect.get_x() + rect.get_width() / 2, height),\n",
    "                    xytext=(0, 3),  # 3 points vertical offset\n",
    "                    textcoords=\"offset points\",\n",
    "                    ha='center', va='bottom')\n",
    "def cond(subset, A,B):\n",
    "    if subset == 'All':\n",
    "        return True\n",
    "    if subset == 'Favorites':\n",
    "        return A<B\n",
    "    else:\n",
    "        return B<A\n",
    "\n"
   ]
  },
  {
   "cell_type": "markdown",
   "metadata": {},
   "source": [
    "# Load and preprocessing data"
   ]
  },
  {
   "cell_type": "code",
   "execution_count": 101,
   "metadata": {},
   "outputs": [
    {
     "name": "stdout",
     "output_type": "stream",
     "text": [
      "       wins_game_semester_level1_0  wins_game_semester_level2_0  \\\n",
      "0                                0                           24   \n",
      "1                               18                          110   \n",
      "2                                0                           22   \n",
      "3                                0                            0   \n",
      "4                               26                           64   \n",
      "...                            ...                          ...   \n",
      "38706                            0                            0   \n",
      "38707                            0                           22   \n",
      "38708                            0                            0   \n",
      "38709                            0                            0   \n",
      "38710                            0                           36   \n",
      "\n",
      "       wins_game_semester_level3_0  wins_game_year_level1_0  \\\n",
      "0                               86                        0   \n",
      "1                              135                       32   \n",
      "2                               50                        6   \n",
      "3                               27                        0   \n",
      "4                              108                       78   \n",
      "...                            ...                      ...   \n",
      "38706                           35                        0   \n",
      "38707                           65                        0   \n",
      "38708                            0                        0   \n",
      "38709                            7                        0   \n",
      "38710                           65                       32   \n",
      "\n",
      "       wins_game_year_level2_0  wins_game_year_level3_0  \\\n",
      "0                           36                      192   \n",
      "1                          176                      257   \n",
      "2                           81                      149   \n",
      "3                            0                       67   \n",
      "4                          191                      268   \n",
      "...                        ...                      ...   \n",
      "38706                        0                       35   \n",
      "38707                       66                      176   \n",
      "38708                        0                        0   \n",
      "38709                        0                       43   \n",
      "38710                      153                      185   \n",
      "\n",
      "       wins_game_career_level1_0  wins_game_career_level2_0  \\\n",
      "0                             27                         96   \n",
      "1                             65                        334   \n",
      "2                             77                        333   \n",
      "3                              0                         41   \n",
      "4                            133                        381   \n",
      "...                          ...                        ...   \n",
      "38706                          0                         16   \n",
      "38707                        108                       1081   \n",
      "38708                          0                         30   \n",
      "38709                          0                         15   \n",
      "38710                        148                        828   \n",
      "\n",
      "       wins_game_career_level3_0  losses_game_semester_level1_0  ...  \\\n",
      "0                            436                              0  ...   \n",
      "1                            647                             17  ...   \n",
      "2                            564                              0  ...   \n",
      "3                            133                              0  ...   \n",
      "4                            673                              5  ...   \n",
      "...                          ...                            ...  ...   \n",
      "38706                        407                              0  ...   \n",
      "38707                       2867                              0  ...   \n",
      "38708                        260                              0  ...   \n",
      "38709                        277                              0  ...   \n",
      "38710                       1916                              9  ...   \n",
      "\n",
      "       percent_career_Grass_1  percent_hth_wins_year_1  \\\n",
      "0                    0.500000                      0.0   \n",
      "1                    0.000000                      0.0   \n",
      "2                    0.647059                      0.0   \n",
      "3                    0.142857                      0.0   \n",
      "4                    0.000000                      0.0   \n",
      "...                       ...                      ...   \n",
      "38706                0.357143                      0.0   \n",
      "38707                0.451613                      0.0   \n",
      "38708                0.555556                      0.0   \n",
      "38709                0.294118                      0.0   \n",
      "38710                0.778571                      0.0   \n",
      "\n",
      "       percent_hth_wins_career_1  percent_tournament.1  surface  best_of  \\\n",
      "0                       0.000000              1.000000      0.0        3   \n",
      "1                       0.000000              1.000000      0.0        3   \n",
      "2                       0.333333              1.000000      0.0        3   \n",
      "3                       0.000000              0.600000      0.0        5   \n",
      "4                       0.333333              0.333333      0.0        3   \n",
      "...                          ...                   ...      ...      ...   \n",
      "38706                   0.000000              0.333333      0.0        5   \n",
      "38707                   0.000000              0.200000      0.0        5   \n",
      "38708                   0.000000              0.571429      0.0        5   \n",
      "38709                   0.000000              0.500000      0.0        5   \n",
      "38710                   0.000000              0.803571      0.0        5   \n",
      "\n",
      "       match_rank  year   sin_day   cos_day  \n",
      "0         0.25000  1994  0.171293  0.985220  \n",
      "1         0.25000  1994  0.171293  0.985220  \n",
      "2         0.25000  1994  0.171293  0.985220  \n",
      "3         0.00225  1994  0.288482  0.957485  \n",
      "4         0.02250  1994  0.508671  0.860961  \n",
      "...           ...   ...       ...       ...  \n",
      "38706     0.00225  2014 -0.806480 -0.591261  \n",
      "38707     0.00225  2014 -0.806480 -0.591261  \n",
      "38708     0.00225  2014 -0.806480 -0.591261  \n",
      "38709     0.00225  2014 -0.806480 -0.591261  \n",
      "38710     0.00225  2014 -0.806480 -0.591261  \n",
      "\n",
      "[38711 rows x 222 columns]\n"
     ]
    }
   ],
   "source": [
    "atp = pd.read_csv(\"atp.csv\")\n",
    "atp = atp.drop(['target'], axis = 1)[3000:].reset_index(drop=True)\n",
    "atp = atp.iloc[:-10000]\n",
    "\n",
    "df_odds = pd.concat( \n",
    "    [ pd.read_excel( 'result_odds/20{}.xls'.format(i) , na_values = ' ')\n",
    "     for i in ['00','01','02','03','04','05','06','07','08','09','10','11','12'] ]+\n",
    "     [ pd.read_excel( 'result_odds/2013.xlsx' , na_values = ' ') ,pd.read_excel( 'result_odds/2014.xlsx' , na_values = ' ') ],\n",
    "     ignore_index=True)\n",
    "df_odds.fillna(value=0.0)\n",
    "df_odds = df_odds.loc[df_odds['Tournament']!='Masters Cup']\n",
    "df_odds = df_odds.loc[df_odds['Comment']== 'Completed']\n",
    "\n",
    "df_odds['Date']=df_odds['Date'].apply(new_date)    \n",
    "df_odds['year'] = df_odds['Date'].apply(get_year)\n",
    "df_odds['sin_day'] = df_odds['Date'].apply(sin_day)\n",
    "df_odds['cos_day'] = df_odds['Date'].apply(cos_day)\n",
    "\n",
    "for ind in tqdm(df_odds.index):\n",
    "    df_odds.at[ind,'Date'] = min(df_odds.loc[(df_odds['Tournament']==df_odds.at[ind,'Tournament']) & \n",
    "                                (df_odds['year']== df_odds.at[ind,'year'])]['Date'])\n",
    "\n",
    "    \n",
    "    \n",
    "SET = []\n",
    "for ind in tqdm(atp.index):\n",
    "    SET.append((atp.at[ind,'year'],atp.at[ind,'rank_points_0'],atp.at[ind,'rank_points_1'],atp.at[ind,'rank_0'],atp.at[ind,'rank_1']))\n",
    "    SET.append((atp.at[ind,'year'],atp.at[ind,'rank_points_1'],atp.at[ind,'rank_points_0'],atp.at[ind,'rank_1'],atp.at[ind,'rank_0']))\n",
    "    \n",
    "for ind in tqdm(df_odds.index):    \n",
    "    if(df_odds.at[ind,'year'],df_odds.at[ind,'WPts'],df_odds.at[ind,'LPts'],df_odds.at[ind,'WRank'],df_odds.at[ind,'LRank']) in SET:\n",
    "        df_odds.at[ind,'in_atp'] = 1\n",
    "    else:\n",
    "        df_odds.at[ind,'in_atp'] = 0\n",
    "        \n",
    "df_odds=df_odds.loc[df_odds['in_atp']==1]\n",
    "df_odds=df_odds[len(df_odds)-4800: len(df_odds)]"
   ]
  },
  {
   "cell_type": "markdown",
   "metadata": {},
   "source": [
    "# Bookmakers on test data"
   ]
  },
  {
   "cell_type": "code",
   "execution_count": 351,
   "metadata": {},
   "outputs": [
    {
     "name": "stdout",
     "output_type": "stream",
     "text": [
      "0.7300626304801671 0.7243616575973211\n",
      "1.7978576802507837 4.258767014613778 1.8874236082042697 4.749451653411469\n"
     ]
    }
   ],
   "source": [
    "B365 = df_odds.loc[df_odds['B365L']>=df_odds['B365W']].shape[0] / df_odds.loc[df_odds['B365L']>0.0].shape[0]\n",
    "PS = df_odds.loc[df_odds['PSL']>=df_odds['PSW']].shape[0] / df_odds.loc[df_odds['PSL']>0.0].shape[0]\n",
    "print(B365,PS)\n",
    "\n",
    "print(np.mean(df_odds['B365W']),\n",
    "np.mean(df_odds['B365L']),\n",
    "np.mean(df_odds['PSW']),\n",
    "np.mean(df_odds['PSL']))"
   ]
  },
  {
   "cell_type": "code",
   "execution_count": 241,
   "metadata": {},
   "outputs": [],
   "source": [
    "file_1 = open(\"Pred_result.txt\",\"r\")\n",
    "load = file_1 .read()\n",
    "pred = []\n",
    "for x in load:\n",
    "    if x== '[':\n",
    "        pred.append([])\n",
    "    if x=='0' or x=='1':\n",
    "        pred[len(pred)-1].append(int(x))\n",
    "file_2 = open(\"True_result.txt\",\"r\")\n",
    "load = file_2.read()\n",
    "RES = []\n",
    "for x in z_2:\n",
    "    if x=='0' or x=='1':\n",
    "        RES.append(int(x))\n",
    "Class = []\n",
    "RES = RES[len(RES)-4800:len(RES)]\n",
    "for i in range(39,51):\n",
    "    Class.append(accuracy_score(pred[i], RES))"
   ]
  },
  {
   "cell_type": "code",
   "execution_count": 242,
   "metadata": {},
   "outputs": [],
   "source": [
    "Class.sort(reverse=True)\n",
    "StackModelPred = pred[49]\n",
    "QDAModelPred = pred[48]\n",
    "XGBoostModelPred = pred[43]"
   ]
  },
  {
   "cell_type": "markdown",
   "metadata": {},
   "source": [
    "# Prediction on example test set"
   ]
  },
  {
   "cell_type": "markdown",
   "metadata": {},
   "source": [
    "We have to think about a few the best our classifier(maybe not the best predictior will bring the greatest profit)"
   ]
  },
  {
   "cell_type": "code",
   "execution_count": 258,
   "metadata": {},
   "outputs": [
    {
     "data": {
      "image/png": "[encoded data removed]",
      "text/plain": [
       "<Figure size 480x480 with 1 Axes>"
      ]
     },
     "metadata": {
      "needs_background": "light"
     },
     "output_type": "display_data"
    }
   ],
   "source": [
    "labels=[\"Stack Model\",\"QDA\",\n",
    "        \"XGBoost\",\"Pinnacle Sports\",\n",
    "        \"BET365\"]\n",
    "values=[100*Class[0],100*Class[1],100*Class[2],100*PS,100*B365]\n",
    "xaxis_label=\"% of matches correctly predicted\"\n",
    "title=\"Prediction of all matches in our test_set (4800 matches)\"\n",
    "xlim=[70,95]\n",
    "basic_horizontal_barplot(values,labels,xaxis_label,title,xlim,figsize=(4,4))"
   ]
  },
  {
   "cell_type": "markdown",
   "metadata": {},
   "source": [
    "ROI -  Return of investment - Measure profit from investment we define like :\n",
    "$$\\frac{(finishCapital -InvestCapital)}  {InvestCapital} $$"
   ]
  },
  {
   "cell_type": "markdown",
   "metadata": {},
   "source": [
    " # Naive strategies"
   ]
  },
  {
   "cell_type": "markdown",
   "metadata": {},
   "source": [
    "- bet for all matches\n",
    "- the same stake for all (100 PLN)\n",
    "- We don't have money limit"
   ]
  },
  {
   "cell_type": "code",
   "execution_count": 188,
   "metadata": {},
   "outputs": [],
   "source": [
    "Capitals = []\n",
    "for Pred in [StackModelPred, QDAModelPred, XGBoostModelPred]:\n",
    "    for bookmakers in ['B365','PS']:\n",
    "        Capital = []\n",
    "        counter = 0\n",
    "        courses = list(df_odds['{}W'.format(bookmakers)])\n",
    "        for i in range(0,4800):\n",
    "            if not np.isnan(courses[i]):\n",
    "                if Pred[i]==RES[i]:\n",
    "                    counter = counter + 100* courses[i]\n",
    "                    Capital.append(counter)\n",
    "                else:\n",
    "                    counter = counter - 100\n",
    "                    Capital.append(counter)\n",
    "            else:\n",
    "                Capital.append(counter)\n",
    "        counter = counter - 100\n",
    "        Capitals.append(Capital)"
   ]
  },
  {
   "cell_type": "code",
   "execution_count": 189,
   "metadata": {},
   "outputs": [
    {
     "data": {
      "image/png": "[encoded data removed]",
      "text/plain": [
       "<Figure size 600x360 with 1 Axes>"
      ]
     },
     "metadata": {
      "needs_background": "light"
     },
     "output_type": "display_data"
    }
   ],
   "source": [
    "values=[Result[len(Result)-1] for Result in Capitals]\n",
    "labels=[ 'StackModelPred_Bet365', 'StackModelPred_PinnacleSports', 'QDAModelPred_Bet365', 'QDAModelPred_PinnacleSports'\n",
    "        ,'XGBoostModelPred_Bet365', 'XGBoostModelPred_PinnacleSports']\n",
    "xaxis_label=\"Return on investment (ROI) in %\"\n",
    "title=\"Betting on all matches\"\n",
    "basic_horizontal_barplot(values,labels,xaxis_label,title,[500000,1000000],(5,3))\n"
   ]
  },
  {
   "cell_type": "markdown",
   "metadata": {},
   "source": [
    "Pinnacle Sports guarantee higher profit"
   ]
  },
  {
   "cell_type": "code",
   "execution_count": 190,
   "metadata": {},
   "outputs": [
    {
     "data": {
      "text/plain": [
       "[<matplotlib.lines.Line2D at 0x7f72c00b6550>]"
      ]
     },
     "execution_count": 190,
     "metadata": {},
     "output_type": "execute_result"
    },
    {
     "data": {
      "image/png": "[encoded data removed]",
      "text/plain": [
       "<Figure size 720x480 with 1 Axes>"
      ]
     },
     "metadata": {
      "needs_background": "light"
     },
     "output_type": "display_data"
    }
   ],
   "source": [
    "fig=plt.figure(figsize=(6,4),dpi=120)\n",
    "plt.ylabel('ROI %')\n",
    "plt.xlabel('match_number')\n",
    "plt.suptitle('StackModelPred_PinnacleSports: ROI%')\n",
    "plt.plot(range(0,4800),Capitals[1])"
   ]
  },
  {
   "cell_type": "markdown",
   "metadata": {},
   "source": [
    "# Subset Selection"
   ]
  },
  {
   "cell_type": "markdown",
   "metadata": {},
   "source": [
    "- bet for subset of all mathes\n",
    "- the same stake for all (100 PLN)\n",
    "- We don't have money limit\n"
   ]
  },
  {
   "cell_type": "markdown",
   "metadata": {},
   "source": [
    "## Yield\n",
    "$$ Yield = \\frac{ \\sum_{i}^{n} g_i}{\\sum_{i}^{n} r_i} $$\n",
    "where i is number of bet, $g_i$ is gain in i bet and $r_i$ is rate in i bet"
   ]
  },
  {
   "cell_type": "code",
   "execution_count": 333,
   "metadata": {},
   "outputs": [],
   "source": [
    "def Naive(subset,Pred,odds_w,odds_l,Y,size):\n",
    "    counter = 0\n",
    "    counter_bet = 0\n",
    "    for i in range(0,size):\n",
    "        if not np.isnan(odds_w[i]):\n",
    "            if cond(subset,odds_w[i],odds_l[i]):\n",
    "                counter_bet = counter_bet + 1\n",
    "                if Pred[i]==Y[i]:\n",
    "                    counter = counter + 100* (odds_w[i] - 1.0)\n",
    "                else:\n",
    "                    counter = counter - 100\n",
    "    return round(counter / (counter_bet * 100),5)"
   ]
  },
  {
   "cell_type": "markdown",
   "metadata": {},
   "source": [
    "## Bet on favorites\n",
    "\n"
   ]
  },
  {
   "cell_type": "code",
   "execution_count": 363,
   "metadata": {},
   "outputs": [
    {
     "name": "stdout",
     "output_type": "stream",
     "text": [
      "Yield score for Naive strategy and Favorites subset: 0.26551\n"
     ]
    }
   ],
   "source": [
    "Yield_1 = Naive(\"Favorites\",StackModelPred,list(df_odds[\"PSW\"]),list(df_odds[\"PSL\"]),RES,4800)\n",
    "print(\"Yield score for Naive strategy and Favorites subset:\", Yield_1)"
   ]
  },
  {
   "cell_type": "markdown",
   "metadata": {},
   "source": [
    "## Bet on underdogs"
   ]
  },
  {
   "cell_type": "code",
   "execution_count": 356,
   "metadata": {},
   "outputs": [
    {
     "name": "stdout",
     "output_type": "stream",
     "text": [
      "Yield score for Naive strategy and Underdogs subset: 1.99976\n"
     ]
    }
   ],
   "source": [
    "Yield_2 = Naive(\"Underdogs\",StackModelPred,list(df_odds[\"PSW\"]),list(df_odds[\"PSL\"]),RES,4800)\n",
    "print(\"Yield score for Naive strategy and Underdogs subset:\", Yield_2)"
   ]
  },
  {
   "cell_type": "markdown",
   "metadata": {},
   "source": [
    "## All matches"
   ]
  },
  {
   "cell_type": "code",
   "execution_count": 357,
   "metadata": {},
   "outputs": [
    {
     "name": "stdout",
     "output_type": "stream",
     "text": [
      "Yield score for Naive strategy and All subset: 0.74602\n"
     ]
    }
   ],
   "source": [
    "Yield_3 = Naive(\"All\",StackModelPred,list(df_odds[\"PSW\"]),list(df_odds[\"PSL\"]),RES,4800)\n",
    "print(\"Yield score for Naive strategy and All subset:\", Yield_3)"
   ]
  },
  {
   "cell_type": "code",
   "execution_count": 337,
   "metadata": {},
   "outputs": [
    {
     "data": {
      "image/png": "[encoded data removed]",
      "text/plain": [
       "<Figure size 792x720 with 1 Axes>"
      ]
     },
     "metadata": {
      "needs_background": "light"
     },
     "output_type": "display_data"
    }
   ],
   "source": [
    "v = cm.get_cmap('viridis')\n",
    "colors = v(np.linspace(0, 1, 3))\n",
    "fig, ax = plt.subplots(figsize=(11, 10))\n",
    "plt.bar(np.arange(3), [Yield_1,Yield_2,Yield_3], color = colors)\n",
    "plt.xticks(np.arange(3), ('Favorites', 'Underdogs', 'All'))\n",
    "plt.show()\n"
   ]
  },
  {
   "cell_type": "markdown",
   "metadata": {},
   "source": [
    "We have intuitions that higher odds are better"
   ]
  },
  {
   "cell_type": "markdown",
   "metadata": {},
   "source": [
    "# Martingale (betting system)"
   ]
  },
  {
   "cell_type": "markdown",
   "metadata": {},
   "source": [
    "- bet for underdogs\n",
    "- stake(100 PLN) or if we have lose streak we want to make money back\n",
    "- We don't have money limit"
   ]
  },
  {
   "cell_type": "code",
   "execution_count": 367,
   "metadata": {},
   "outputs": [],
   "source": [
    "def Martingale(subset,Pred,odds_w,odds_l,Y,size):\n",
    "    counter = 0\n",
    "    counter_bet = 0\n",
    "    lose_streak = 0\n",
    "    lost_money = 100\n",
    "    for i in range(0,size):\n",
    "        if not np.isnan(odds_w[i]):\n",
    "            if cond(subset,odds_w[i],odds_l[i]):\n",
    "                if Pred[i] == Y[i]:\n",
    "                    if lose_streak == 0:\n",
    "                        counter = counter + 100* (odds_w[i] - 1.0)\n",
    "                        counter_bet = counter_bet + 100\n",
    "                    else:\n",
    "                        counter = counter + lost_money\n",
    "                        counter_bet = counter_bet + lost_money\n",
    "                    lost_money = 100\n",
    "                else:\n",
    "                    counter = counter - lost_money / (odds_l[i] - 1.0)\n",
    "                    lost_money = lost_money + (lost_money / (odds_l[i] - 1.0) )\n",
    "                    counter_bet = counter_bet + (lost_money / (odds_l[i] - 1.0) )\n",
    "                    lose_streak = lose_streak + 1\n",
    "    return round(counter / (counter_bet),5)\n",
    "                "
   ]
  },
  {
   "cell_type": "markdown",
   "metadata": {},
   "source": [
    "## Favorites"
   ]
  },
  {
   "cell_type": "code",
   "execution_count": 371,
   "metadata": {},
   "outputs": [
    {
     "name": "stdout",
     "output_type": "stream",
     "text": [
      "Yield score for Martingale strategy and Favorites subset: 0.90114\n"
     ]
    }
   ],
   "source": [
    "Yield_4 = Martingale(\"Favorites\",StackModelPred,list(df_odds[\"PSW\"]),list(df_odds[\"PSL\"]),RES,4800)\n",
    "print(\"Yield score for Martingale strategy and Favorites subset:\", Yield_4)"
   ]
  },
  {
   "cell_type": "markdown",
   "metadata": {},
   "source": [
    "## Underdogs"
   ]
  },
  {
   "cell_type": "code",
   "execution_count": 372,
   "metadata": {},
   "outputs": [
    {
     "name": "stdout",
     "output_type": "stream",
     "text": [
      "Yield score for Martingale strategy and Underdogs subset: 0.50577\n"
     ]
    }
   ],
   "source": [
    "Yield_5 = Martingale(\"Underdogs\",StackModelPred,list(df_odds[\"PSW\"]),list(df_odds[\"PSL\"]),RES,4800)\n",
    "print(\"Yield score for Martingale strategy and Underdogs subset:\", Yield_5)"
   ]
  },
  {
   "cell_type": "markdown",
   "metadata": {},
   "source": [
    "## All Matches"
   ]
  },
  {
   "cell_type": "code",
   "execution_count": 373,
   "metadata": {},
   "outputs": [
    {
     "name": "stdout",
     "output_type": "stream",
     "text": [
      "Yield score for Martingale strategy and All subset: 0.73537\n"
     ]
    }
   ],
   "source": [
    "Yield_6 = Martingale(\"All\",StackModelPred,list(df_odds[\"PSW\"]),list(df_odds[\"PSL\"]),RES,4800)\n",
    "print(\"Yield score for Martingale strategy and All subset:\", Yield_6)"
   ]
  },
  {
   "cell_type": "code",
   "execution_count": 342,
   "metadata": {},
   "outputs": [
    {
     "data": {
      "image/png": "[encoded data removed]",
      "text/plain": [
       "<Figure size 792x720 with 1 Axes>"
      ]
     },
     "metadata": {
      "needs_background": "light"
     },
     "output_type": "display_data"
    }
   ],
   "source": [
    "labels = ['Favorites','Underdogs','All']\n",
    "naive = [Yield_1,Yield_2,Yield_3]\n",
    "Martingale = [Yield_4,Yield_5,Yield_6]\n",
    "\n",
    "x = np.arange(len(labels))  # the label locations\n",
    "width = 0.35  # the width of the bars\n",
    "\n",
    "fig, ax = plt.subplots(figsize=(11, 10))\n",
    "rects1 = ax.bar(x - width/2, naive, width, label='naive')\n",
    "rects2 = ax.bar(x + width/2, Martingale, width, label='Martingale')\n",
    "\n",
    "ax.set_ylabel('Yield')\n",
    "ax.set_title('Yield by subset and strategy')\n",
    "ax.set_xticks(x)\n",
    "ax.set_xticklabels(labels)\n",
    "ax.legend()\n",
    "\n",
    "\n",
    "autolabel(rects1)\n",
    "autolabel(rects2)\n",
    "\n",
    "fig.tight_layout()\n",
    "\n",
    "plt.show()"
   ]
  },
  {
   "cell_type": "markdown",
   "metadata": {},
   "source": [
    "# Kelly criterion"
   ]
  },
  {
   "cell_type": "markdown",
   "metadata": {},
   "source": [
    "$$ K = \\frac{bp-q}{b} $$\n",
    "where b is multiple of your stake you can win from the proposed wager, p is the probability of the proposed wager winning, $q = 1-p$"
   ]
  },
  {
   "cell_type": "code",
   "execution_count": 347,
   "metadata": {},
   "outputs": [],
   "source": [
    "def Kelly(subset,Pred,odds_w,odds_l,Y,size,max_r,p,q):\n",
    "    counter = 100\n",
    "    counter_bet = 0\n",
    "    for i in range(0,size):\n",
    "        if not np.isnan(odds_w[i]):\n",
    "            if cond(subset,odds_w[i],odds_l[i]):\n",
    "                if Pred[i]==Y[i]:\n",
    "                    K = (p* odds_w[i] - q)/ odds_w[i]\n",
    "                    counter = counter + min((K*counter),max_r) * (odds_w[i] - 1.0)\n",
    "                    counter_bet = counter_bet + min((K*counter),max_r)\n",
    "                else:\n",
    "                    K = (p* odds_l[i] - q)/ odds_l[i]\n",
    "                    counter = counter - min((K*counter),max_r)\n",
    "                    counter_bet = counter_bet + min((K*counter),max_r)\n",
    "    if counter_bet > 0:\n",
    "        Yield_K = round(counter / (counter_bet),5)\n",
    "    else:\n",
    "        Yield_K = 0\n",
    "    return Yield_K"
   ]
  },
  {
   "cell_type": "code",
   "execution_count": 374,
   "metadata": {},
   "outputs": [
    {
     "name": "stdout",
     "output_type": "stream",
     "text": [
      "Yield score for Kelly strategy and Underdogs subset: 2.00054\n"
     ]
    }
   ],
   "source": [
    "Yield_K = Kelly(\"Underdogs\",StackModelPred,list(df_odds[\"PSW\"]),list(df_odds[\"PSL\"]),RES,4800,100000,0.92,0.08)\n",
    "print(\"Yield score for Kelly strategy and Underdogs subset:\", Yield_K)"
   ]
  },
  {
   "cell_type": "code",
   "execution_count": null,
   "metadata": {},
   "outputs": [],
   "source": []
  }
 ],
 "metadata": {
  "kernelspec": {
   "display_name": "Python 3.8.5 64-bit",
   "language": "python",
   "name": "python385jvsc74a57bd031f2aee4e71d21fbe5cf8b01ff0e069b9275f58929596ceb00d14d90e3e16cd6"
  },
  "language_info": {
   "codemirror_mode": {
    "name": "ipython",
    "version": 3
   },
   "file_extension": ".py",
   "mimetype": "text/x-python",
   "name": "python",
   "nbconvert_exporter": "python",
   "pygments_lexer": "ipython3",
   "version": "3.8.10"
  }
 },
 "nbformat": 4,
 "nbformat_minor": 4
}
