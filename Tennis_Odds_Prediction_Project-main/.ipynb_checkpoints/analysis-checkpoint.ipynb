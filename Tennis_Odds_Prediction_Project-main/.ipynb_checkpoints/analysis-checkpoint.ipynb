{
 "cells": [
  {
   "cell_type": "code",
   "execution_count": 17,
   "metadata": {},
   "outputs": [],
   "source": [
    "import pandas as pd\n",
    "import numpy as np\n",
    "from tqdm.auto import tqdm\n",
    "from scipy import stats\n",
    "import matplotlib.pyplot as plt\n",
    "\n",
    "import sklearn.preprocessing\n",
    "\n",
    "from sklearn.linear_model import RidgeClassifier, LogisticRegression\n",
    "from xgboost import XGBClassifier\n",
    "\n",
    "from sklearn.metrics import accuracy_score\n",
    "from sklearn.decomposition import PCA\n",
    "from sklearn.ensemble import RandomForestClassifier\n",
    "from sklearn.datasets import make_classification\n",
    "from sklearn.ensemble import GradientBoostingClassifier"
   ]
  },
  {
   "cell_type": "code",
   "execution_count": 2,
   "metadata": {},
   "outputs": [],
   "source": [
    "data = pd.read_csv(\"atp.csv\")\n",
    "Y = pd.DataFrame(data['target'])\n",
    "X = data.drop(['target'], axis = 1)"
   ]
  },
  {
   "cell_type": "code",
   "execution_count": 3,
   "metadata": {},
   "outputs": [],
   "source": [
    "Y_delete_nans = pd.DataFrame(data.dropna()['target'])"
   ]
  },
  {
   "cell_type": "code",
   "execution_count": 4,
   "metadata": {},
   "outputs": [
    {
     "data": {
      "text/html": [
       "<div>\n",
       "<style scoped>\n",
       "    .dataframe tbody tr th:only-of-type {\n",
       "        vertical-align: middle;\n",
       "    }\n",
       "\n",
       "    .dataframe tbody tr th {\n",
       "        vertical-align: top;\n",
       "    }\n",
       "\n",
       "    .dataframe thead th {\n",
       "        text-align: right;\n",
       "    }\n",
       "</style>\n",
       "<table border=\"1\" class=\"dataframe\">\n",
       "  <thead>\n",
       "    <tr style=\"text-align: right;\">\n",
       "      <th></th>\n",
       "      <th>age_0</th>\n",
       "      <th>ht_0</th>\n",
       "      <th>hand_0</th>\n",
       "      <th>rank_0</th>\n",
       "      <th>rank_points_0</th>\n",
       "      <th>wins_semester_level1_0</th>\n",
       "      <th>wins_semester_level2_0</th>\n",
       "      <th>wins_semester_level3_0</th>\n",
       "      <th>wins_year_level1_0</th>\n",
       "      <th>wins_year_level2_0</th>\n",
       "      <th>...</th>\n",
       "      <th>percent_insv_career</th>\n",
       "      <th>percent_svpt_semester.1</th>\n",
       "      <th>percent_svpt_year.1</th>\n",
       "      <th>percent_svpt_career.1</th>\n",
       "      <th>percent_rtpt_semester.1</th>\n",
       "      <th>percent_rtpt_year.1</th>\n",
       "      <th>percent_rtpt_career.1</th>\n",
       "      <th>percent_insv_semester.1</th>\n",
       "      <th>percent_insv_year.1</th>\n",
       "      <th>percent_insv_career.1</th>\n",
       "    </tr>\n",
       "  </thead>\n",
       "  <tbody>\n",
       "    <tr>\n",
       "      <th>0</th>\n",
       "      <td>25.790554</td>\n",
       "      <td>190.0</td>\n",
       "      <td>1</td>\n",
       "      <td>4.0</td>\n",
       "      <td>2606.0</td>\n",
       "      <td>0</td>\n",
       "      <td>0</td>\n",
       "      <td>0</td>\n",
       "      <td>0</td>\n",
       "      <td>0</td>\n",
       "      <td>...</td>\n",
       "      <td>0.000000</td>\n",
       "      <td>0.000000</td>\n",
       "      <td>0.000000</td>\n",
       "      <td>0.000000</td>\n",
       "      <td>0.000000</td>\n",
       "      <td>0.000000</td>\n",
       "      <td>0.000000</td>\n",
       "      <td>0.000000</td>\n",
       "      <td>0.000000</td>\n",
       "      <td>0.000000</td>\n",
       "    </tr>\n",
       "    <tr>\n",
       "      <th>1</th>\n",
       "      <td>31.099247</td>\n",
       "      <td>180.0</td>\n",
       "      <td>0</td>\n",
       "      <td>55.0</td>\n",
       "      <td>814.0</td>\n",
       "      <td>0</td>\n",
       "      <td>0</td>\n",
       "      <td>0</td>\n",
       "      <td>0</td>\n",
       "      <td>0</td>\n",
       "      <td>...</td>\n",
       "      <td>0.000000</td>\n",
       "      <td>0.000000</td>\n",
       "      <td>0.000000</td>\n",
       "      <td>0.000000</td>\n",
       "      <td>0.000000</td>\n",
       "      <td>0.000000</td>\n",
       "      <td>0.000000</td>\n",
       "      <td>0.000000</td>\n",
       "      <td>0.000000</td>\n",
       "      <td>0.000000</td>\n",
       "    </tr>\n",
       "    <tr>\n",
       "      <th>2</th>\n",
       "      <td>20.377823</td>\n",
       "      <td>175.0</td>\n",
       "      <td>1</td>\n",
       "      <td>123.0</td>\n",
       "      <td>374.0</td>\n",
       "      <td>0</td>\n",
       "      <td>0</td>\n",
       "      <td>0</td>\n",
       "      <td>0</td>\n",
       "      <td>0</td>\n",
       "      <td>...</td>\n",
       "      <td>0.000000</td>\n",
       "      <td>0.000000</td>\n",
       "      <td>0.000000</td>\n",
       "      <td>0.000000</td>\n",
       "      <td>0.000000</td>\n",
       "      <td>0.000000</td>\n",
       "      <td>0.000000</td>\n",
       "      <td>0.000000</td>\n",
       "      <td>0.000000</td>\n",
       "      <td>0.000000</td>\n",
       "    </tr>\n",
       "    <tr>\n",
       "      <th>3</th>\n",
       "      <td>18.384668</td>\n",
       "      <td>185.0</td>\n",
       "      <td>1</td>\n",
       "      <td>64.0</td>\n",
       "      <td>749.0</td>\n",
       "      <td>0</td>\n",
       "      <td>0</td>\n",
       "      <td>0</td>\n",
       "      <td>0</td>\n",
       "      <td>0</td>\n",
       "      <td>...</td>\n",
       "      <td>0.000000</td>\n",
       "      <td>0.000000</td>\n",
       "      <td>0.000000</td>\n",
       "      <td>0.000000</td>\n",
       "      <td>0.000000</td>\n",
       "      <td>0.000000</td>\n",
       "      <td>0.000000</td>\n",
       "      <td>0.000000</td>\n",
       "      <td>0.000000</td>\n",
       "      <td>0.000000</td>\n",
       "    </tr>\n",
       "    <tr>\n",
       "      <th>4</th>\n",
       "      <td>23.852156</td>\n",
       "      <td>188.0</td>\n",
       "      <td>1</td>\n",
       "      <td>221.0</td>\n",
       "      <td>185.0</td>\n",
       "      <td>0</td>\n",
       "      <td>0</td>\n",
       "      <td>0</td>\n",
       "      <td>0</td>\n",
       "      <td>0</td>\n",
       "      <td>...</td>\n",
       "      <td>0.000000</td>\n",
       "      <td>0.000000</td>\n",
       "      <td>0.000000</td>\n",
       "      <td>0.000000</td>\n",
       "      <td>0.000000</td>\n",
       "      <td>0.000000</td>\n",
       "      <td>0.000000</td>\n",
       "      <td>0.000000</td>\n",
       "      <td>0.000000</td>\n",
       "      <td>0.000000</td>\n",
       "    </tr>\n",
       "    <tr>\n",
       "      <th>...</th>\n",
       "      <td>...</td>\n",
       "      <td>...</td>\n",
       "      <td>...</td>\n",
       "      <td>...</td>\n",
       "      <td>...</td>\n",
       "      <td>...</td>\n",
       "      <td>...</td>\n",
       "      <td>...</td>\n",
       "      <td>...</td>\n",
       "      <td>...</td>\n",
       "      <td>...</td>\n",
       "      <td>...</td>\n",
       "      <td>...</td>\n",
       "      <td>...</td>\n",
       "      <td>...</td>\n",
       "      <td>...</td>\n",
       "      <td>...</td>\n",
       "      <td>...</td>\n",
       "      <td>...</td>\n",
       "      <td>...</td>\n",
       "      <td>...</td>\n",
       "    </tr>\n",
       "    <tr>\n",
       "      <th>56697</th>\n",
       "      <td>31.463381</td>\n",
       "      <td>175.0</td>\n",
       "      <td>1</td>\n",
       "      <td>26.0</td>\n",
       "      <td>1917.0</td>\n",
       "      <td>0</td>\n",
       "      <td>1</td>\n",
       "      <td>10</td>\n",
       "      <td>2</td>\n",
       "      <td>5</td>\n",
       "      <td>...</td>\n",
       "      <td>NaN</td>\n",
       "      <td>0.655679</td>\n",
       "      <td>0.644116</td>\n",
       "      <td>0.637888</td>\n",
       "      <td>0.359827</td>\n",
       "      <td>0.364207</td>\n",
       "      <td>0.353557</td>\n",
       "      <td>0.617700</td>\n",
       "      <td>0.605112</td>\n",
       "      <td>0.617767</td>\n",
       "    </tr>\n",
       "    <tr>\n",
       "      <th>56698</th>\n",
       "      <td>34.485969</td>\n",
       "      <td>190.0</td>\n",
       "      <td>1</td>\n",
       "      <td>143.0</td>\n",
       "      <td>476.0</td>\n",
       "      <td>0</td>\n",
       "      <td>0</td>\n",
       "      <td>14</td>\n",
       "      <td>0</td>\n",
       "      <td>0</td>\n",
       "      <td>...</td>\n",
       "      <td>0.607300</td>\n",
       "      <td>0.640039</td>\n",
       "      <td>0.637522</td>\n",
       "      <td>0.649474</td>\n",
       "      <td>0.378418</td>\n",
       "      <td>0.373239</td>\n",
       "      <td>0.416364</td>\n",
       "      <td>0.578665</td>\n",
       "      <td>0.579965</td>\n",
       "      <td>0.581257</td>\n",
       "    </tr>\n",
       "    <tr>\n",
       "      <th>56699</th>\n",
       "      <td>22.568104</td>\n",
       "      <td>185.0</td>\n",
       "      <td>0</td>\n",
       "      <td>18.0</td>\n",
       "      <td>2348.0</td>\n",
       "      <td>1</td>\n",
       "      <td>6</td>\n",
       "      <td>12</td>\n",
       "      <td>1</td>\n",
       "      <td>8</td>\n",
       "      <td>...</td>\n",
       "      <td>0.586860</td>\n",
       "      <td>0.673152</td>\n",
       "      <td>0.671088</td>\n",
       "      <td>0.658251</td>\n",
       "      <td>0.367237</td>\n",
       "      <td>0.369136</td>\n",
       "      <td>0.361787</td>\n",
       "      <td>0.629053</td>\n",
       "      <td>0.631745</td>\n",
       "      <td>0.637145</td>\n",
       "    </tr>\n",
       "    <tr>\n",
       "      <th>56700</th>\n",
       "      <td>23.800137</td>\n",
       "      <td>188.0</td>\n",
       "      <td>1</td>\n",
       "      <td>41.0</td>\n",
       "      <td>1422.0</td>\n",
       "      <td>0</td>\n",
       "      <td>5</td>\n",
       "      <td>16</td>\n",
       "      <td>0</td>\n",
       "      <td>6</td>\n",
       "      <td>...</td>\n",
       "      <td>0.617905</td>\n",
       "      <td>0.627477</td>\n",
       "      <td>0.623343</td>\n",
       "      <td>0.623300</td>\n",
       "      <td>0.378788</td>\n",
       "      <td>0.380130</td>\n",
       "      <td>0.370959</td>\n",
       "      <td>0.589640</td>\n",
       "      <td>0.605187</td>\n",
       "      <td>0.606492</td>\n",
       "    </tr>\n",
       "    <tr>\n",
       "      <th>56701</th>\n",
       "      <td>22.568104</td>\n",
       "      <td>185.0</td>\n",
       "      <td>0</td>\n",
       "      <td>18.0</td>\n",
       "      <td>2348.0</td>\n",
       "      <td>1</td>\n",
       "      <td>7</td>\n",
       "      <td>12</td>\n",
       "      <td>1</td>\n",
       "      <td>9</td>\n",
       "      <td>...</td>\n",
       "      <td>0.606939</td>\n",
       "      <td>0.657165</td>\n",
       "      <td>0.662085</td>\n",
       "      <td>0.658434</td>\n",
       "      <td>0.377011</td>\n",
       "      <td>0.371704</td>\n",
       "      <td>0.358900</td>\n",
       "      <td>0.595471</td>\n",
       "      <td>0.591805</td>\n",
       "      <td>0.587402</td>\n",
       "    </tr>\n",
       "  </tbody>\n",
       "</table>\n",
       "<p>56702 rows × 148 columns</p>\n",
       "</div>"
      ],
      "text/plain": [
       "           age_0   ht_0  hand_0  rank_0  rank_points_0  \\\n",
       "0      25.790554  190.0       1     4.0         2606.0   \n",
       "1      31.099247  180.0       0    55.0          814.0   \n",
       "2      20.377823  175.0       1   123.0          374.0   \n",
       "3      18.384668  185.0       1    64.0          749.0   \n",
       "4      23.852156  188.0       1   221.0          185.0   \n",
       "...          ...    ...     ...     ...            ...   \n",
       "56697  31.463381  175.0       1    26.0         1917.0   \n",
       "56698  34.485969  190.0       1   143.0          476.0   \n",
       "56699  22.568104  185.0       0    18.0         2348.0   \n",
       "56700  23.800137  188.0       1    41.0         1422.0   \n",
       "56701  22.568104  185.0       0    18.0         2348.0   \n",
       "\n",
       "       wins_semester_level1_0  wins_semester_level2_0  wins_semester_level3_0  \\\n",
       "0                           0                       0                       0   \n",
       "1                           0                       0                       0   \n",
       "2                           0                       0                       0   \n",
       "3                           0                       0                       0   \n",
       "4                           0                       0                       0   \n",
       "...                       ...                     ...                     ...   \n",
       "56697                       0                       1                      10   \n",
       "56698                       0                       0                      14   \n",
       "56699                       1                       6                      12   \n",
       "56700                       0                       5                      16   \n",
       "56701                       1                       7                      12   \n",
       "\n",
       "       wins_year_level1_0  wins_year_level2_0  ...  percent_insv_career  \\\n",
       "0                       0                   0  ...             0.000000   \n",
       "1                       0                   0  ...             0.000000   \n",
       "2                       0                   0  ...             0.000000   \n",
       "3                       0                   0  ...             0.000000   \n",
       "4                       0                   0  ...             0.000000   \n",
       "...                   ...                 ...  ...                  ...   \n",
       "56697                   2                   5  ...                  NaN   \n",
       "56698                   0                   0  ...             0.607300   \n",
       "56699                   1                   8  ...             0.586860   \n",
       "56700                   0                   6  ...             0.617905   \n",
       "56701                   1                   9  ...             0.606939   \n",
       "\n",
       "       percent_svpt_semester.1  percent_svpt_year.1  percent_svpt_career.1  \\\n",
       "0                     0.000000             0.000000               0.000000   \n",
       "1                     0.000000             0.000000               0.000000   \n",
       "2                     0.000000             0.000000               0.000000   \n",
       "3                     0.000000             0.000000               0.000000   \n",
       "4                     0.000000             0.000000               0.000000   \n",
       "...                        ...                  ...                    ...   \n",
       "56697                 0.655679             0.644116               0.637888   \n",
       "56698                 0.640039             0.637522               0.649474   \n",
       "56699                 0.673152             0.671088               0.658251   \n",
       "56700                 0.627477             0.623343               0.623300   \n",
       "56701                 0.657165             0.662085               0.658434   \n",
       "\n",
       "       percent_rtpt_semester.1  percent_rtpt_year.1  percent_rtpt_career.1  \\\n",
       "0                     0.000000             0.000000               0.000000   \n",
       "1                     0.000000             0.000000               0.000000   \n",
       "2                     0.000000             0.000000               0.000000   \n",
       "3                     0.000000             0.000000               0.000000   \n",
       "4                     0.000000             0.000000               0.000000   \n",
       "...                        ...                  ...                    ...   \n",
       "56697                 0.359827             0.364207               0.353557   \n",
       "56698                 0.378418             0.373239               0.416364   \n",
       "56699                 0.367237             0.369136               0.361787   \n",
       "56700                 0.378788             0.380130               0.370959   \n",
       "56701                 0.377011             0.371704               0.358900   \n",
       "\n",
       "       percent_insv_semester.1  percent_insv_year.1  percent_insv_career.1  \n",
       "0                     0.000000             0.000000               0.000000  \n",
       "1                     0.000000             0.000000               0.000000  \n",
       "2                     0.000000             0.000000               0.000000  \n",
       "3                     0.000000             0.000000               0.000000  \n",
       "4                     0.000000             0.000000               0.000000  \n",
       "...                        ...                  ...                    ...  \n",
       "56697                 0.617700             0.605112               0.617767  \n",
       "56698                 0.578665             0.579965               0.581257  \n",
       "56699                 0.629053             0.631745               0.637145  \n",
       "56700                 0.589640             0.605187               0.606492  \n",
       "56701                 0.595471             0.591805               0.587402  \n",
       "\n",
       "[56702 rows x 148 columns]"
      ]
     },
     "execution_count": 4,
     "metadata": {},
     "output_type": "execute_result"
    }
   ],
   "source": [
    "X"
   ]
  },
  {
   "cell_type": "markdown",
   "metadata": {},
   "source": [
    "## naive classifier using ranking points"
   ]
  },
  {
   "cell_type": "code",
   "execution_count": 5,
   "metadata": {},
   "outputs": [],
   "source": [
    "def naive_classifier(column, data, Y):\n",
    "    acc = 0\n",
    "    for ind in data.index:\n",
    "        r0 = data.at[ind, f'{column}_0']\n",
    "        r1 = data.at[ind, f'{column}_1']\n",
    "        if r0 > r1 and Y.at[ind, 'target'] == 0:\n",
    "            acc += 1\n",
    "        if r0 < r1 and Y.at[ind, 'target'] == 1:\n",
    "            acc += 1\n",
    "    return acc/len(data)"
   ]
  },
  {
   "cell_type": "code",
   "execution_count": 6,
   "metadata": {},
   "outputs": [
    {
     "name": "stdout",
     "output_type": "stream",
     "text": [
      "accuracy:  0.652551938203238\n"
     ]
    }
   ],
   "source": [
    "print(\"accuracy: \", naive_classifier('rank_points', X, Y))"
   ]
  },
  {
   "cell_type": "markdown",
   "metadata": {},
   "source": [
    "## naive classifier using elo points"
   ]
  },
  {
   "cell_type": "code",
   "execution_count": 7,
   "metadata": {},
   "outputs": [
    {
     "name": "stdout",
     "output_type": "stream",
     "text": [
      "accuracy:  0.6622341363620331\n"
     ]
    }
   ],
   "source": [
    "print(\"accuracy: \", naive_classifier('elo', X, Y))"
   ]
  },
  {
   "cell_type": "markdown",
   "metadata": {},
   "source": [
    "#### fairly good results, we will try to improve them"
   ]
  },
  {
   "cell_type": "code",
   "execution_count": 8,
   "metadata": {},
   "outputs": [],
   "source": [
    "min_max_scaler = sklearn.preprocessing.MinMaxScaler()\n",
    "standard_scaler = sklearn.preprocessing.StandardScaler().fit(data)\n",
    "X_scaledmx = pd.DataFrame(min_max_scaler.fit_transform(X), columns = X.columns)\n",
    "X_scaledstd = pd.DataFrame(standard_scaler.fit_transform(X), columns = X.columns)"
   ]
  },
  {
   "cell_type": "code",
   "execution_count": 9,
   "metadata": {},
   "outputs": [
    {
     "name": "stdout",
     "output_type": "stream",
     "text": [
      "accuracy min_max rank:  0.652551938203238\n",
      "accuracy standard rank:  0.6531339282564989\n",
      "accuracy min_max elo:  0.6627984903530739\n",
      "accuracy standard elo:  0.6632746640330147\n"
     ]
    }
   ],
   "source": [
    "print(\"accuracy min_max rank: \", naive_classifier('rank_points', X_scaledmx, Y))\n",
    "print(\"accuracy standard rank: \", naive_classifier('rank_points', X_scaledstd, Y))\n",
    "print(\"accuracy min_max elo: \", naive_classifier('elo', X_scaledmx, Y))\n",
    "print(\"accuracy standard elo: \", naive_classifier('elo', X_scaledstd, Y))"
   ]
  },
  {
   "cell_type": "markdown",
   "metadata": {},
   "source": [
    "## dealing with nulls"
   ]
  },
  {
   "cell_type": "code",
   "execution_count": 10,
   "metadata": {},
   "outputs": [],
   "source": [
    "# we replace Nans with random gaussian data\n",
    "def generate_data_on_Nan(column, data):\n",
    "    m = data[column].mean()\n",
    "    std = data[column].std()\n",
    "    #print(m, std)\n",
    "    for ind in data.index:\n",
    "        if np.isnan(data.at[ind, column]):\n",
    "            data.at[ind, column] = np.random.normal(m, std)"
   ]
  },
  {
   "cell_type": "code",
   "execution_count": 11,
   "metadata": {},
   "outputs": [
    {
     "name": "stdout",
     "output_type": "stream",
     "text": [
      "ht_0 1503\n",
      "rank_0 76\n",
      "rank_points_0 76\n",
      "minutes_played_last_match_0 701\n",
      "ht_1 1572\n",
      "rank_1 92\n",
      "rank_points_1 92\n",
      "minutes_played_last_match_1 709\n",
      "percent_svpt_semester 3714\n",
      "percent_svpt_year 6453\n",
      "percent_svpt_career 23281\n",
      "percent_rtpt_semester 3714\n",
      "percent_rtpt_year 6453\n",
      "percent_rtpt_career 23281\n",
      "percent_insv_semester 3714\n",
      "percent_insv_year 6453\n",
      "percent_insv_career 23281\n",
      "percent_svpt_semester.1 3605\n",
      "percent_svpt_year.1 6457\n",
      "percent_svpt_career.1 23308\n",
      "percent_rtpt_semester.1 3605\n",
      "percent_rtpt_year.1 6457\n",
      "percent_rtpt_career.1 23308\n",
      "percent_insv_semester.1 3605\n",
      "percent_insv_year.1 6457\n",
      "percent_insv_career.1 23308\n"
     ]
    }
   ],
   "source": [
    "# check where are Nans, and how many\n",
    "for c in X.columns:\n",
    "    if X[c].isna().sum() > 0:\n",
    "        print(c, X[c].isna().sum())"
   ]
  },
  {
   "cell_type": "code",
   "execution_count": 12,
   "metadata": {},
   "outputs": [
    {
     "name": "stdout",
     "output_type": "stream",
     "text": [
      "\n",
      "MIN MAX\n",
      "accuracy generate rank:  0.6536982822475398\n",
      "accuracy delete rank:  0.6281562026242877\n",
      "accuracy generate elo:  0.6627984903530739\n",
      "accuracy delete elo:  0.6330702075382927\n",
      "\n",
      "STANDARD\n",
      "accuracy generate rank:  0.6545095411096611\n",
      "accuracy delete rank:  0.6287312457525224\n",
      "accuracy generate elo:  0.6632746640330147\n",
      "accuracy delete elo:  0.6330179308902714\n"
     ]
    }
   ],
   "source": [
    "for i,X_scaled in enumerate([X_scaledmx, X_scaledstd]):\n",
    "    if i == 0:\n",
    "        print(\"\\nMIN MAX\")\n",
    "    else:\n",
    "        print(\"\\nSTANDARD\")\n",
    "    X_scaled_2 = X_scaled.copy()\n",
    "    X_scaled_2 = X_scaled_2.dropna()\n",
    "\n",
    "    X_scaled_1 = X_scaled.copy()\n",
    "    # check where are Nans and replace them with gaussian \n",
    "    for c in X_scaled.columns:\n",
    "        if X_scaled[c].isna().sum() > 0:\n",
    "            #print(c, X_scaled[c].isna().sum())\n",
    "            generate_data_on_Nan(c, X_scaled_1)\n",
    "    print(\"accuracy generate rank: \", naive_classifier('rank_points', X_scaled_1, Y))\n",
    "    print(\"accuracy delete rank: \", naive_classifier('rank_points', X_scaled_2, Y_delete_nans))\n",
    "    print(\"accuracy generate elo: \", naive_classifier('elo', X_scaled_1, Y))\n",
    "    print(\"accuracy delete elo: \", naive_classifier('elo', X_scaled_2, Y_delete_nans))"
   ]
  },
  {
   "cell_type": "markdown",
   "metadata": {},
   "source": [
    "## so far our best results are: (nulls does not affect elo score)\n",
    "## elo: 0.6633 standard normalization\n",
    "## rank: 0.65436 standard normalization, generating rank"
   ]
  },
  {
   "cell_type": "markdown",
   "metadata": {},
   "source": [
    "# Results on ML classifiers"
   ]
  },
  {
   "cell_type": "code",
   "execution_count": 13,
   "metadata": {},
   "outputs": [
    {
     "name": "stdout",
     "output_type": "stream",
     "text": [
      "(           age_0   ht_0  hand_0  rank_0  rank_points_0  \\\n",
      "3000   27.835729  185.0       1    38.0          945.0   \n",
      "3001   26.294319  180.0       1   100.0          410.0   \n",
      "3002   28.878850  175.0       1    32.0         1040.0   \n",
      "3003   27.444216  183.0       1   102.0          404.0   \n",
      "3004   19.871321  180.0       1     7.0         2560.0   \n",
      "...          ...    ...     ...     ...            ...   \n",
      "55697  23.570157  180.0       1    71.0          986.0   \n",
      "55698  31.331964  183.0       0    92.0          828.0   \n",
      "55699  32.038330  183.0       1    43.0         1521.0   \n",
      "55700  25.210130  196.0       1     9.0         4468.0   \n",
      "55701  27.362081  183.0       1   131.0          607.0   \n",
      "\n",
      "       wins_semester_level1_0  wins_semester_level2_0  wins_semester_level3_0  \\\n",
      "3000                        0                       2                       4   \n",
      "3001                        0                       0                       1   \n",
      "3002                        0                       3                       8   \n",
      "3003                        0                       0                       3   \n",
      "3004                        1                       3                       7   \n",
      "...                       ...                     ...                     ...   \n",
      "55697                       0                       1                       9   \n",
      "55698                       0                       3                       6   \n",
      "55699                       0                       0                       8   \n",
      "55700                       3                       8                      12   \n",
      "55701                       0                       0                       1   \n",
      "\n",
      "       wins_year_level1_0  wins_year_level2_0  ...  percent_insv_career  \\\n",
      "3000                    1                   5  ...                  NaN   \n",
      "3001                    0                   1  ...                  NaN   \n",
      "3002                    0                   7  ...             0.523492   \n",
      "3003                    0                   0  ...             0.573302   \n",
      "3004                    3                  10  ...                  NaN   \n",
      "...                   ...                 ...  ...                  ...   \n",
      "55697                   0                   1  ...             0.611836   \n",
      "55698                   0                   3  ...             0.600636   \n",
      "55699                   1                   2  ...             0.660728   \n",
      "55700                   3                  10  ...             0.622023   \n",
      "55701                   0                   0  ...             0.613776   \n",
      "\n",
      "       percent_svpt_semester.1  percent_svpt_year.1  percent_svpt_career.1  \\\n",
      "3000                  0.604945             0.605518               0.608977   \n",
      "3001                  0.538776             0.596827               0.596827   \n",
      "3002                  0.616769             0.613899               0.613899   \n",
      "3003                  0.648733                  NaN                    NaN   \n",
      "3004                  0.656753             0.649838               0.650580   \n",
      "...                        ...                  ...                    ...   \n",
      "55697                 0.000000             0.000000               0.593220   \n",
      "55698                 0.635012             0.629977               0.607976   \n",
      "55699                 0.600245             0.609741               0.622353   \n",
      "55700                 0.554286             0.578507               0.627606   \n",
      "55701                 0.575610             0.578723               0.601004   \n",
      "\n",
      "       percent_rtpt_semester.1  percent_rtpt_year.1  percent_rtpt_career.1  \\\n",
      "3000                  0.368810             0.378737               0.383955   \n",
      "3001                  0.415385             0.393627               0.393627   \n",
      "3002                  0.423225             0.409100               0.409100   \n",
      "3003                  0.394986                  NaN                    NaN   \n",
      "3004                  0.409471             0.409662               0.412491   \n",
      "...                        ...                  ...                    ...   \n",
      "55697                 0.000000             0.000000               0.341246   \n",
      "55698                 0.389801             0.387203               0.357993   \n",
      "55699                 0.358991             0.377399               0.370998   \n",
      "55700                 0.365938             0.358719               0.368475   \n",
      "55701                 0.371041             0.372654               0.352783   \n",
      "\n",
      "       percent_insv_semester.1  percent_insv_year.1  percent_insv_career.1  \n",
      "3000                  0.551099             0.556944               0.558508  \n",
      "3001                  0.632653             0.608959               0.608959  \n",
      "3002                  0.555187             0.557091               0.557091  \n",
      "3003                  0.560249                  NaN                    NaN  \n",
      "3004                  0.502682             0.532644               0.529356  \n",
      "...                        ...                  ...                    ...  \n",
      "55697                 0.000000             0.000000               0.694915  \n",
      "55698                 0.612717             0.608119               0.612478  \n",
      "55699                 0.614960             0.600493               0.616750  \n",
      "55700                 0.658286             0.649686               0.650524  \n",
      "55701                 0.602439             0.595745               0.629061  \n",
      "\n",
      "[52702 rows x 148 columns],        target\n",
      "3000        1\n",
      "3001        1\n",
      "3002        1\n",
      "3003        1\n",
      "3004        0\n",
      "...       ...\n",
      "55697       0\n",
      "55698       1\n",
      "55699       1\n",
      "55700       0\n",
      "55701       1\n",
      "\n",
      "[52702 rows x 1 columns],            age_0   ht_0  hand_0  rank_0  rank_points_0  \\\n",
      "55702  22.193018  178.0       0    83.0          883.0   \n",
      "55703  36.172485  206.0       1    33.0         1775.0   \n",
      "55704  34.373717  188.0       1    61.0         1111.0   \n",
      "55705  24.147844  183.0       1    69.0         1009.0   \n",
      "55706  21.897331  196.0       1    67.0         1027.0   \n",
      "...          ...    ...     ...     ...            ...   \n",
      "56697  31.463381  175.0       1    26.0         1917.0   \n",
      "56698  34.485969  190.0       1   143.0          476.0   \n",
      "56699  22.568104  185.0       0    18.0         2348.0   \n",
      "56700  23.800137  188.0       1    41.0         1422.0   \n",
      "56701  22.568104  185.0       0    18.0         2348.0   \n",
      "\n",
      "       wins_semester_level1_0  wins_semester_level2_0  wins_semester_level3_0  \\\n",
      "55702                       0                       2                       8   \n",
      "55703                       0                       2                       7   \n",
      "55704                       0                       3                      12   \n",
      "55705                       0                       3                       7   \n",
      "55706                       1                       2                      13   \n",
      "...                       ...                     ...                     ...   \n",
      "56697                       0                       1                      10   \n",
      "56698                       0                       0                      14   \n",
      "56699                       1                       6                      12   \n",
      "56700                       0                       5                      16   \n",
      "56701                       1                       7                      12   \n",
      "\n",
      "       wins_year_level1_0  wins_year_level2_0  ...  percent_insv_career  \\\n",
      "55702                   0                   2  ...             0.567019   \n",
      "55703                   0                   2  ...                  NaN   \n",
      "55704                   0                   3  ...             0.601968   \n",
      "55705                   0                   3  ...             0.603691   \n",
      "55706                   1                   2  ...             0.601997   \n",
      "...                   ...                 ...  ...                  ...   \n",
      "56697                   2                   5  ...                  NaN   \n",
      "56698                   0                   0  ...             0.607300   \n",
      "56699                   1                   8  ...             0.586860   \n",
      "56700                   0                   6  ...             0.617905   \n",
      "56701                   1                   9  ...             0.606939   \n",
      "\n",
      "       percent_svpt_semester.1  percent_svpt_year.1  percent_svpt_career.1  \\\n",
      "55702                 0.597222             0.596996               0.589590   \n",
      "55703                 0.590140             0.593284               0.600124   \n",
      "55704                 0.655803             0.651226               0.640387   \n",
      "55705                 0.608260             0.610653               0.606180   \n",
      "55706                 0.610977             0.606003               0.640060   \n",
      "...                        ...                  ...                    ...   \n",
      "56697                 0.655679             0.644116               0.637888   \n",
      "56698                 0.640039             0.637522               0.649474   \n",
      "56699                 0.673152             0.671088               0.658251   \n",
      "56700                 0.627477             0.623343               0.623300   \n",
      "56701                 0.657165             0.662085               0.658434   \n",
      "\n",
      "       percent_rtpt_semester.1  percent_rtpt_year.1  percent_rtpt_career.1  \\\n",
      "55702                 0.388778             0.391071               0.377577   \n",
      "55703                 0.366104             0.378800               0.381739   \n",
      "55704                 0.391138             0.388651               0.388369   \n",
      "55705                 0.400711             0.397584               0.387130   \n",
      "55706                 0.379140             0.380916               0.395940   \n",
      "...                        ...                  ...                    ...   \n",
      "56697                 0.359827             0.364207               0.353557   \n",
      "56698                 0.378418             0.373239               0.416364   \n",
      "56699                 0.367237             0.369136               0.361787   \n",
      "56700                 0.378788             0.380130               0.370959   \n",
      "56701                 0.377011             0.371704               0.358900   \n",
      "\n",
      "       percent_insv_semester.1  percent_insv_year.1  percent_insv_career.1  \n",
      "55702                 0.693783             0.685440               0.683959  \n",
      "55703                 0.670346             0.673300               0.653955  \n",
      "55704                 0.592607             0.586172               0.590563  \n",
      "55705                 0.700295             0.700714               0.643787  \n",
      "55706                 0.643235             0.640957               0.614675  \n",
      "...                        ...                  ...                    ...  \n",
      "56697                 0.617700             0.605112               0.617767  \n",
      "56698                 0.578665             0.579965               0.581257  \n",
      "56699                 0.629053             0.631745               0.637145  \n",
      "56700                 0.589640             0.605187               0.606492  \n",
      "56701                 0.595471             0.591805               0.587402  \n",
      "\n",
      "[1000 rows x 148 columns],        target\n",
      "55702       1\n",
      "55703       1\n",
      "55704       0\n",
      "55705       1\n",
      "55706       1\n",
      "...       ...\n",
      "56697       1\n",
      "56698       1\n",
      "56699       0\n",
      "56700       1\n",
      "56701       1\n",
      "\n",
      "[1000 rows x 1 columns])\n"
     ]
    }
   ],
   "source": [
    "def get_test_train(X,Y):\n",
    "    X_train = X.iloc[:-1000,:]\n",
    "    X_train = X_train[3000:len(X_train)]\n",
    "    Y_train = Y.iloc[:-1000,:]\n",
    "    Y_train = Y_train[3000:len(Y_train)]\n",
    "    X_test = X.iloc[-1000:,:]\n",
    "    Y_test = Y.iloc[-1000:,:]\n",
    "    return X_train,Y_train,X_test,Y_test\n",
    "print(get_test_train(X,Y))"
   ]
  },
  {
   "cell_type": "code",
   "execution_count": 18,
   "metadata": {},
   "outputs": [
    {
     "name": "stdout",
     "output_type": "stream",
     "text": [
      "\n",
      "MIN MAX\n"
     ]
    },
    {
     "name": "stderr",
     "output_type": "stream",
     "text": [
      "/home/krzysztof/.local/lib/python3.8/site-packages/sklearn/ensemble/_gb.py:494: DataConversionWarning: A column-vector y was passed when a 1d array was expected. Please change the shape of y to (n_samples, ), for example using ravel().\n",
      "  y = column_or_1d(y, warn=True)\n"
     ]
    },
    {
     "name": "stdout",
     "output_type": "stream",
     "text": [
      "accuracy generate Gradient Boosting Classifier:  0.652\n"
     ]
    },
    {
     "name": "stderr",
     "output_type": "stream",
     "text": [
      "/home/krzysztof/.local/lib/python3.8/site-packages/sklearn/ensemble/_gb.py:494: DataConversionWarning: A column-vector y was passed when a 1d array was expected. Please change the shape of y to (n_samples, ), for example using ravel().\n",
      "  y = column_or_1d(y, warn=True)\n"
     ]
    },
    {
     "name": "stdout",
     "output_type": "stream",
     "text": [
      "accuracy delete Gradient Boosting Classifier:  0.613\n"
     ]
    },
    {
     "name": "stderr",
     "output_type": "stream",
     "text": [
      "<ipython-input-18-02b362fd690c>:33: DataConversionWarning: A column-vector y was passed when a 1d array was expected. Please change the shape of y to (n_samples,), for example using ravel().\n",
      "  clf = RandomForestClassifier().fit(X_train1,Y_train1)\n"
     ]
    },
    {
     "name": "stdout",
     "output_type": "stream",
     "text": [
      "accuracy generate Random Forest:  0.641\n"
     ]
    },
    {
     "name": "stderr",
     "output_type": "stream",
     "text": [
      "<ipython-input-18-02b362fd690c>:39: DataConversionWarning: A column-vector y was passed when a 1d array was expected. Please change the shape of y to (n_samples,), for example using ravel().\n",
      "  clf = RandomForestClassifier().fit(X_train2,Y_train2)\n"
     ]
    },
    {
     "name": "stdout",
     "output_type": "stream",
     "text": [
      "accuracy delete Random Forest:  0.635\n"
     ]
    },
    {
     "name": "stderr",
     "output_type": "stream",
     "text": [
      "/home/krzysztof/.local/lib/python3.8/site-packages/sklearn/utils/validation.py:985: DataConversionWarning: A column-vector y was passed when a 1d array was expected. Please change the shape of y to (n_samples, ), for example using ravel().\n",
      "  y = column_or_1d(y, warn=True)\n"
     ]
    },
    {
     "name": "stdout",
     "output_type": "stream",
     "text": [
      "accuracy generate logistic reg:  0.667\n"
     ]
    },
    {
     "name": "stderr",
     "output_type": "stream",
     "text": [
      "/home/krzysztof/.local/lib/python3.8/site-packages/sklearn/utils/validation.py:985: DataConversionWarning: A column-vector y was passed when a 1d array was expected. Please change the shape of y to (n_samples, ), for example using ravel().\n",
      "  y = column_or_1d(y, warn=True)\n"
     ]
    },
    {
     "name": "stdout",
     "output_type": "stream",
     "text": [
      "accuracy delete logistic reg:  0.634\n",
      "accuracy generate xgboost:  0.639\n",
      "accuracy delete xgboost:  0.606\n",
      "\n",
      "STANDARD\n"
     ]
    },
    {
     "name": "stderr",
     "output_type": "stream",
     "text": [
      "/home/krzysztof/.local/lib/python3.8/site-packages/sklearn/ensemble/_gb.py:494: DataConversionWarning: A column-vector y was passed when a 1d array was expected. Please change the shape of y to (n_samples, ), for example using ravel().\n",
      "  y = column_or_1d(y, warn=True)\n"
     ]
    },
    {
     "name": "stdout",
     "output_type": "stream",
     "text": [
      "accuracy generate Gradient Boosting Classifier:  0.665\n"
     ]
    },
    {
     "name": "stderr",
     "output_type": "stream",
     "text": [
      "/home/krzysztof/.local/lib/python3.8/site-packages/sklearn/ensemble/_gb.py:494: DataConversionWarning: A column-vector y was passed when a 1d array was expected. Please change the shape of y to (n_samples, ), for example using ravel().\n",
      "  y = column_or_1d(y, warn=True)\n"
     ]
    },
    {
     "name": "stdout",
     "output_type": "stream",
     "text": [
      "accuracy delete Gradient Boosting Classifier:  0.639\n"
     ]
    },
    {
     "name": "stderr",
     "output_type": "stream",
     "text": [
      "<ipython-input-18-02b362fd690c>:33: DataConversionWarning: A column-vector y was passed when a 1d array was expected. Please change the shape of y to (n_samples,), for example using ravel().\n",
      "  clf = RandomForestClassifier().fit(X_train1,Y_train1)\n"
     ]
    },
    {
     "name": "stdout",
     "output_type": "stream",
     "text": [
      "accuracy generate Random Forest:  0.637\n"
     ]
    },
    {
     "name": "stderr",
     "output_type": "stream",
     "text": [
      "<ipython-input-18-02b362fd690c>:39: DataConversionWarning: A column-vector y was passed when a 1d array was expected. Please change the shape of y to (n_samples,), for example using ravel().\n",
      "  clf = RandomForestClassifier().fit(X_train2,Y_train2)\n"
     ]
    },
    {
     "name": "stdout",
     "output_type": "stream",
     "text": [
      "accuracy delete Random Forest:  0.61\n"
     ]
    },
    {
     "name": "stderr",
     "output_type": "stream",
     "text": [
      "/home/krzysztof/.local/lib/python3.8/site-packages/sklearn/utils/validation.py:985: DataConversionWarning: A column-vector y was passed when a 1d array was expected. Please change the shape of y to (n_samples, ), for example using ravel().\n",
      "  y = column_or_1d(y, warn=True)\n"
     ]
    },
    {
     "name": "stdout",
     "output_type": "stream",
     "text": [
      "accuracy generate logistic reg:  0.673\n",
      "accuracy delete logistic reg:  0.633\n"
     ]
    },
    {
     "name": "stderr",
     "output_type": "stream",
     "text": [
      "/home/krzysztof/.local/lib/python3.8/site-packages/sklearn/utils/validation.py:985: DataConversionWarning: A column-vector y was passed when a 1d array was expected. Please change the shape of y to (n_samples, ), for example using ravel().\n",
      "  y = column_or_1d(y, warn=True)\n"
     ]
    }
   ],
   "source": [
    "for i,X_scaled in enumerate([X_scaledmx, X_scaledstd]):\n",
    "    if i == 0:\n",
    "        print(\"\\nMIN MAX\")\n",
    "    else:\n",
    "        print(\"\\nSTANDARD\")\n",
    "    X_scaled_2 = X_scaled.copy()\n",
    "    X_scaled_2 = X_scaled_2.dropna()\n",
    "\n",
    "    X_scaled_1 = X_scaled.copy()\n",
    "    # check where are Nans and replace them with gaussian \n",
    "    for c in X_scaled.columns:\n",
    "        if X_scaled[c].isna().sum() > 0:\n",
    "            #print(c, X_scaled[c].isna().sum())\n",
    "            generate_data_on_Nan(c, X_scaled_1)\n",
    "    \n",
    "    pca = PCA(n_components=80, svd_solver='full')\n",
    "    X_scaled_2 = pd.DataFrame(pca.fit_transform(X_scaled_2))\n",
    "    X_scaled_1 = pd.DataFrame(pca.fit_transform(X_scaled_1))\n",
    "    X_train1,Y_train1,X_test1,Y_test1 = get_test_train(X_scaled_1, Y)\n",
    "    X_train2,Y_train2,X_test2,Y_test2 = get_test_train(X_scaled_2, Y_delete_nans)\n",
    "    \n",
    "    \n",
    "    clf = GradientBoostingClassifier().fit(X_train1,Y_train1)\n",
    "    predictions = clf.predict(X_test1)\n",
    "    acc = accuracy_score(Y_test1, predictions)\n",
    "    print(\"accuracy generate Gradient Boosting Classifier: \", acc)\n",
    "    \n",
    "    \n",
    "    clf = GradientBoostingClassifier().fit(X_train2,Y_train2)\n",
    "    predictions = clf.predict(X_test2)\n",
    "    acc = accuracy_score(Y_test2, predictions)\n",
    "    print(\"accuracy delete Gradient Boosting Classifier: \", acc)\n",
    "    \n",
    "    clf = RandomForestClassifier().fit(X_train1,Y_train1)\n",
    "    predictions = clf.predict(X_test1)\n",
    "    acc = accuracy_score(Y_test1, predictions)\n",
    "    print(\"accuracy generate Random Forest: \", acc)\n",
    "    \n",
    "    \n",
    "    clf = RandomForestClassifier().fit(X_train2,Y_train2)\n",
    "    predictions = clf.predict(X_test2)\n",
    "    acc = accuracy_score(Y_test2, predictions)\n",
    "    print(\"accuracy delete Random Forest: \", acc)\n",
    "    \n",
    "    \n",
    "    \n",
    "    clf = LogisticRegression().fit(X_train1,Y_train1)\n",
    "    predictions = clf.predict(X_test1)\n",
    "    acc = accuracy_score(Y_test1, predictions)\n",
    "    print(\"accuracy generate logistic reg: \", acc)\n",
    "    \n",
    "    clf = LogisticRegression().fit(X_train2,Y_train2)\n",
    "    predictions = clf.predict(X_test2)\n",
    "    acc = accuracy_score(Y_test2, predictions)\n",
    "    print(\"accuracy delete logistic reg: \", acc)\n",
    "    \n",
    "    if i != 1: # cant perform xgboost on standard normalization\n",
    "        clf = XGBClassifier(use_label_encoder=False).fit(X_train1,Y_train1, eval_metric='rmse')\n",
    "        predictions = clf.predict(X_test1)\n",
    "        acc = accuracy_score(Y_test1, predictions)\n",
    "        print(\"accuracy generate xgboost: \", acc)\n",
    "        clf = XGBClassifier(use_label_encoder=False).fit(X_train2,Y_train2, eval_metric='rmse')\n",
    "        predictions = clf.predict(X_test2)\n",
    "        acc = accuracy_score(Y_test2, predictions)\n",
    "        print(\"accuracy delete xgboost: \", acc)\n",
    "    "
   ]
  },
  {
   "cell_type": "code",
   "execution_count": null,
   "metadata": {},
   "outputs": [],
   "source": []
  },
  {
   "cell_type": "code",
   "execution_count": 15,
   "metadata": {},
   "outputs": [
    {
     "ename": "NameError",
     "evalue": "name 'final_df' is not defined",
     "output_type": "error",
     "traceback": [
      "\u001b[0;31m---------------------------------------------------------------------------\u001b[0m",
      "\u001b[0;31mNameError\u001b[0m                                 Traceback (most recent call last)",
      "\u001b[0;32m<ipython-input-15-9926949be1b6>\u001b[0m in \u001b[0;36m<module>\u001b[0;34m\u001b[0m\n\u001b[1;32m      1\u001b[0m \u001b[0mdf_correlation\u001b[0m \u001b[0;34m=\u001b[0m \u001b[0mpd\u001b[0m\u001b[0;34m.\u001b[0m\u001b[0mDataFrame\u001b[0m\u001b[0;34m(\u001b[0m\u001b[0mcolumns\u001b[0m \u001b[0;34m=\u001b[0m \u001b[0;34m[\u001b[0m\u001b[0;34m'feature'\u001b[0m\u001b[0;34m,\u001b[0m\u001b[0;34m'correlation'\u001b[0m\u001b[0;34m]\u001b[0m\u001b[0;34m)\u001b[0m\u001b[0;34m\u001b[0m\u001b[0;34m\u001b[0m\u001b[0m\n\u001b[0;32m----> 2\u001b[0;31m \u001b[0;32mfor\u001b[0m \u001b[0mcolumns\u001b[0m \u001b[0;32min\u001b[0m \u001b[0mfinal_df\u001b[0m\u001b[0;34m:\u001b[0m\u001b[0;34m\u001b[0m\u001b[0;34m\u001b[0m\u001b[0m\n\u001b[0m\u001b[1;32m      3\u001b[0m     \u001b[0;32mif\u001b[0m \u001b[0mtype\u001b[0m\u001b[0;34m(\u001b[0m\u001b[0mfinal_df\u001b[0m\u001b[0;34m[\u001b[0m\u001b[0mcolumns\u001b[0m\u001b[0;34m]\u001b[0m\u001b[0;34m)\u001b[0m\u001b[0;34m==\u001b[0m \u001b[0mpd\u001b[0m\u001b[0;34m.\u001b[0m\u001b[0mcore\u001b[0m\u001b[0;34m.\u001b[0m\u001b[0mseries\u001b[0m\u001b[0;34m.\u001b[0m\u001b[0mSeries\u001b[0m\u001b[0;34m:\u001b[0m\u001b[0;34m\u001b[0m\u001b[0;34m\u001b[0m\u001b[0m\n\u001b[1;32m      4\u001b[0m         \u001b[0;32mif\u001b[0m \u001b[0mtype\u001b[0m\u001b[0;34m(\u001b[0m\u001b[0mfinal_df\u001b[0m\u001b[0;34m[\u001b[0m\u001b[0mcolumns\u001b[0m\u001b[0;34m]\u001b[0m\u001b[0;34m[\u001b[0m\u001b[0;36m0\u001b[0m\u001b[0;34m]\u001b[0m\u001b[0;34m)\u001b[0m\u001b[0;34m!=\u001b[0m\u001b[0mstr\u001b[0m\u001b[0;34m:\u001b[0m\u001b[0;34m\u001b[0m\u001b[0;34m\u001b[0m\u001b[0m\n\u001b[1;32m      5\u001b[0m             \u001b[0mfinal_df\u001b[0m\u001b[0;34m[\u001b[0m\u001b[0mcolumns\u001b[0m\u001b[0;34m]\u001b[0m \u001b[0;34m=\u001b[0m \u001b[0mnp\u001b[0m\u001b[0;34m.\u001b[0m\u001b[0mwhere\u001b[0m\u001b[0;34m(\u001b[0m\u001b[0mnp\u001b[0m\u001b[0;34m.\u001b[0m\u001b[0misnan\u001b[0m\u001b[0;34m(\u001b[0m\u001b[0mnp\u001b[0m\u001b[0;34m.\u001b[0m\u001b[0mfloat64\u001b[0m\u001b[0;34m(\u001b[0m\u001b[0mfinal_df\u001b[0m\u001b[0;34m[\u001b[0m\u001b[0mcolumns\u001b[0m\u001b[0;34m]\u001b[0m\u001b[0;34m)\u001b[0m\u001b[0;34m)\u001b[0m\u001b[0;34m,\u001b[0m \u001b[0mmax\u001b[0m\u001b[0;34m(\u001b[0m\u001b[0mfinal_df\u001b[0m\u001b[0;34m[\u001b[0m\u001b[0mcolumns\u001b[0m\u001b[0;34m]\u001b[0m\u001b[0;34m)\u001b[0m\u001b[0;34m,\u001b[0m\u001b[0mfinal_df\u001b[0m\u001b[0;34m[\u001b[0m\u001b[0mcolumns\u001b[0m\u001b[0;34m]\u001b[0m\u001b[0;34m)\u001b[0m\u001b[0;34m\u001b[0m\u001b[0;34m\u001b[0m\u001b[0m\n",
      "\u001b[0;31mNameError\u001b[0m: name 'final_df' is not defined"
     ]
    }
   ],
   "source": [
    "df_correlation = pd.DataFrame(columns = ['feature','correlation'])\n",
    "for columns in final_df:\n",
    "    if type(final_df[columns])== pd.core.series.Series:\n",
    "        if type(final_df[columns][0])!=str:\n",
    "            final_df[columns] = np.where(np.isnan(np.float64(final_df[columns])), max(final_df[columns]),final_df[columns])\n",
    "            if -1.0 < stats.pointbiserialr(final_df['target'],final_df[columns])[0] and stats.pointbiserialr(final_df['target'],final_df[columns])[0] < 1.0:\n",
    "                df_correlation = df_correlation.append({'feature':columns,'correlation':stats.pointbiserialr(final_df['target'],final_df[columns])[0]},ignore_index=True)\n",
    "df_correlation=df_correlation.sort_values(by = 'correlation', key = lambda col: -abs(col))         \n",
    "print(df_correlation)\n"
   ]
  },
  {
   "cell_type": "code",
   "execution_count": null,
   "metadata": {},
   "outputs": [],
   "source": [
    "maximum_ranking_points = max(final_df['rank_points_0'])\n",
    "minimum_ranking_points = min(final_df['rank_points_0'])\n",
    "rank_0_points_groups = np.linspace(minimum_ranking_points,maximum_ranking_points,num=20)\n",
    "win_ratio_rank_0_points = [ final_df.loc[(final_df['rank_points_0']>=rank_0_points_groups[i]) & (final_df['target']==0)\n",
    "                           & (final_df['rank_points_0']<rank_0_points_groups[i+1]) ].shape[0] /\n",
    "                           final_df.loc[ (final_df['rank_points_0']>= rank_0_points_groups[i])\n",
    "                                       & (final_df['rank_points_0']< rank_0_points_groups[i+1])].shape[0] for i in range(0,19)]\n",
    "plt.plot(rank_0_points_groups[0:19],win_ratio_rank_0_points)\n",
    "plt.ylabel('win_ratio')\n",
    "plt.xlabel('ranking_points')\n",
    "plt.show()"
   ]
  },
  {
   "cell_type": "code",
   "execution_count": null,
   "metadata": {},
   "outputs": [],
   "source": [
    "maximum_age = max(final_df['age_0'])\n",
    "minimum_age = min(final_df['age_0'])\n",
    "age_0_groups = np.linspace(minimum_age,maximum_age,num=20)\n",
    "win_ratio_age = [ final_df.loc[(final_df['age_0']>=age_0_groups[i]) & (final_df['target']==0) &\n",
    "                               (final_df['age_0']<age_0_groups[i+1]) ].shape[0] /\n",
    "                           final_df.loc[(final_df['age_0']>= age_0_groups[i]) & (final_df['age_0']<age_0_groups[i+1]) ].shape[0] for i in range(0,19) ]\n",
    "plt.plot(age_0_groups[0:19],win_ratio_age)\n",
    "plt.ylabel('win_ratio')\n",
    "plt.xlabel('normalize_age')\n",
    "plt.show()"
   ]
  }
 ],
 "metadata": {
  "kernelspec": {
   "display_name": "Python 3",
   "language": "python",
   "name": "python3"
  },
  "language_info": {
   "codemirror_mode": {
    "name": "ipython",
    "version": 3
   },
   "file_extension": ".py",
   "mimetype": "text/x-python",
   "name": "python",
   "nbconvert_exporter": "python",
   "pygments_lexer": "ipython3",
   "version": "3.8.10"
  }
 },
 "nbformat": 4,
 "nbformat_minor": 4
}
